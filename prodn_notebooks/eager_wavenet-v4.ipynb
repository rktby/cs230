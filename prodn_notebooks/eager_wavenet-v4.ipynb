{
 "cells": [
  {
   "cell_type": "code",
   "execution_count": 1,
   "metadata": {},
   "outputs": [
    {
     "name": "stdout",
     "output_type": "stream",
     "text": [
      "1.12.0\n"
     ]
    }
   ],
   "source": [
    "import numpy as np\n",
    "import pandas as pd\n",
    "import tensorflow as tf\n",
    "\n",
    "tf.enable_eager_execution()\n",
    "tf.set_random_seed(230)\n",
    "print(tf.__version__)\n",
    "\n",
    "from matplotlib import pyplot as plt\n",
    "\n",
    "import sys\n",
    "sys.path.append('..')"
   ]
  },
  {
   "cell_type": "code",
   "execution_count": 2,
   "metadata": {},
   "outputs": [
    {
     "name": "stdout",
     "output_type": "stream",
     "text": [
      "[('batch_size', 800), ('datagen', 'biogas'), ('dilation_channels', 16), ('dilations', [1, 2, 4, 8, 16, 32, 64]), ('filter_width', 2), ('in_seq_len', 258), ('initial_filter_width', 2), ('input_channels', 1), ('input_dim', 1), ('lambd', 1e-10), ('learning_rate', 0.01), ('logs_path', '/tmp/tensorflow_logs'), ('lr_decay', 0.995), ('norm_epsilon', 1e-12), ('out_seq_len', 24), ('output_channels', 1), ('output_dim', 1), ('quantization_channels', 100), ('residual_channels', 16), ('sample_rate', 24), ('scalar_input', False), ('skip_channels', 32), ('test_split', 0.1), ('train_split', 0.8), ('use_biases', True), ('val_split', 0.1)]\n"
     ]
    }
   ],
   "source": [
    "from configs.wavenet_biogas import hparams\n",
    "hparams = hparams()\n",
    "print(hparams)"
   ]
  },
  {
   "cell_type": "code",
   "execution_count": 3,
   "metadata": {},
   "outputs": [],
   "source": [
    "hparams.in_seq_len = 48\n",
    "hparams.out_seq_len = 2 * 256 + 2\n",
    "hparams.batch_size = 100\n",
    "hparams.dilations = [1, 2, 4, 8, 16, 32, 64, 128]\n",
    "hparams.learning_rate = 1e-2\n",
    "hparams.quantization_channels = 256\n",
    "hparams.residual_channels = 32\n",
    "hparams.dilation_channels = 128\n",
    "hparams.skip_channels = 128\n",
    "hparams.lambd = 2 * 1e-4"
   ]
  },
  {
   "cell_type": "code",
   "execution_count": 4,
   "metadata": {},
   "outputs": [
    {
     "name": "stdout",
     "output_type": "stream",
     "text": [
      "Added x, y data\n",
      "Added y_mask data\n",
      "Added x_max data\n"
     ]
    }
   ],
   "source": [
    "from data_loader.sin import *\n",
    "dataset, dataset_val, dataset_test = load_data(hparams, mode='random_frequency', normalise='random_scale_and_offset')\n",
    "target, inp, mask, x_max = next(iter(dataset))"
   ]
  },
  {
   "cell_type": "code",
   "execution_count": 17,
   "metadata": {},
   "outputs": [],
   "source": [
    "def jitter(inp, target):\n",
    "    delta = tf.random.uniform((inp.shape[0],1,1), -0.05, 0.05)\n",
    "    inp = inp + delta\n",
    "    target = target + delta\n",
    "\n",
    "    for _ in range(3):\n",
    "        delta = tf.reduce_min(tf.minimum(tf.concat([inp, target], 1),0), axis=1, keepdims=True)\n",
    "        inp = inp - 2 * delta\n",
    "        target = target - 2 * delta\n",
    "\n",
    "        delta = tf.reduce_max(tf.maximum(tf.concat([inp, target], 1) - 1,0), axis=1, keepdims=True)\n",
    "        inp = inp - 2 * delta\n",
    "        target = target - 2 * delta\n",
    "        \n",
    "    return inp, target\n",
    "\n",
    "def create_gaussian_labels(inp):\n",
    "    labels = tf.cast(hparams.quantization_channels * (inp), tf.int32)\n",
    "    labels = tf.one_hot(labels, (hparams.quantization_channels+1))\n",
    "    labels = tf.transpose(labels, [0,1,3,2])\n",
    "    labels = gaussian_filter(labels)\n",
    "    labels = tf.squeeze(labels)\n",
    "    return labels"
   ]
  },
  {
   "cell_type": "code",
   "execution_count": 7,
   "metadata": {},
   "outputs": [],
   "source": [
    "class WaveNet(tf.keras.Model):\n",
    "    '''\n",
    "    https://github.com/NVIDIA/nv-wavenet/blob/master/pytorch/wavenet.py\n",
    "    '''\n",
    "    def __init__(self, params, condition_model=False):\n",
    "        super(WaveNet, self).__init__()\n",
    "\n",
    "        self.num_layers = len(params.dilations)\n",
    "        self.max_dilation = max(params.dilations)\n",
    "        self.residual_channels = params.residual_channels \n",
    "        self.skip_channels = params.skip_channels\n",
    "        self.quantization_channels = params.quantization_channels\n",
    "        self.receptive_field = params.initial_filter_width - 1 + \\\n",
    "                               (params.filter_width - 1) * sum(params.dilations)\n",
    "        \n",
    "        self.dilate_layers = []\n",
    "        self.res_layers = []\n",
    "        self.skip_layers = []\n",
    "        \n",
    "        self.embed = tf.keras.layers.Embedding(self.quantization_channels + 1, self.residual_channels,\n",
    "                                               name='embedding')\n",
    "        self.conv_out = tf.keras.layers.Conv1D(int(self.quantization_channels ** 0.5), 1, use_bias=False,\n",
    "                                               activation='relu', name='conv_out')\n",
    "        self.conv_end = tf.keras.layers.Conv1D(self.quantization_channels + 1, 1, use_bias=False,\n",
    "                                               name='conv_end') \n",
    "            # Need an extra channel to create enough buckets e.g. [0-100] Needs 101 channels\n",
    "\n",
    "        # Option to add conditioning layer to model\n",
    "        if condition_model:\n",
    "            self.condition = tf.keras.layers.Conv1D(2 * self.residual_channels * self.num_layers, 1,\n",
    "                                               use_bias=params.use_biases, activation='tanh', name='conditioning')\n",
    "\n",
    "        \n",
    "        loop_factor = np.floor(np.log2(self.max_dilation)) + 1\n",
    "        for ix in range(self.num_layers):\n",
    "            dilation = int(2 ** (ix % loop_factor))\n",
    "            \n",
    "            layer = 'layer{}'.format(ix)\n",
    "            in_layer = tf.keras.layers.Conv1D(2 * params.residual_channels, kernel_size=2, padding='causal',\n",
    "                                          dilation_rate=dilation, use_bias=params.use_biases,\n",
    "                                          name=layer+'_dilated_conv')\n",
    "            self.dilate_layers.append(in_layer)\n",
    "\n",
    "            # last one is not necessary\n",
    "            if ix < self.num_layers - 1:\n",
    "                res_layer = tf.keras.layers.Conv1D(params.residual_channels, 1, use_bias=params.use_biases,\n",
    "                                                name=layer+'_residual_conv')\n",
    "                self.res_layers.append(res_layer)\n",
    "\n",
    "            skip_layer = tf.keras.layers.Conv1D(params.skip_channels, 1, use_bias=params.use_biases,\n",
    "                                                name=layer+'_skip_conv')\n",
    "            self.skip_layers.append(skip_layer)\n",
    "\n",
    "    def call(self, inp, mask=None):\n",
    "        \n",
    "        assert(np.max(inp) <= 1.)\n",
    "        assert(np.min(inp) >= 0.)\n",
    "        inp = tf.cast(self.quantization_channels * tf.squeeze(inp), tf.int16)\n",
    "        inp = self.embed(inp)\n",
    "        if mask != None:\n",
    "            cond = self.condition(mask)\n",
    "       \n",
    "        for i in range(self.num_layers):\n",
    "            in_act = self.dilate_layers[i](inp)\n",
    "            if mask != None:\n",
    "                in_act = in_act + cond[:, :, i * 2 * self.residual_channels:(i+1) * 2 * self.residual_channels]\n",
    "            t_act = tf.tanh(in_act[:, :, :self.residual_channels])\n",
    "            s_act = tf.sigmoid(in_act[:, :, self.residual_channels:])\n",
    "            acts = t_act * s_act\n",
    "            acts = tf.nn.dropout(acts, keep_prob=1-dropout_prob)\n",
    "            if i < len(self.res_layers):\n",
    "                res_acts = self.res_layers[i](acts)\n",
    "            inp = res_acts + inp\n",
    "            inp = tf.nn.dropout(inp, keep_prob=1-dropout_prob)\n",
    "\n",
    "            if i == 0:\n",
    "                output = self.skip_layers[i](acts)\n",
    "            else:\n",
    "                output = self.skip_layers[i](acts) + output\n",
    "\n",
    "        output = tf.nn.relu(output)\n",
    "        output = self.conv_out(output)\n",
    "        output = tf.nn.relu(output)\n",
    "        output = self.conv_end(output)\n",
    "        \n",
    "        # Remove last probability and replace first value with 0's because we don't know\n",
    "\n",
    "        last = output[:, -1:]\n",
    "        output = output[:, :-1]\n",
    "        first = last * 0.0\n",
    "        output = tf.concat((first, output), 1)\n",
    "\n",
    "        return output"
   ]
  },
  {
   "cell_type": "code",
   "execution_count": null,
   "metadata": {},
   "outputs": [],
   "source": [
    "class WaveNet(tf.keras.Model):\n",
    "    '''\n",
    "    https://github.com/NVIDIA/nv-wavenet/blob/master/pytorch/wavenet.py\n",
    "    Use Skip-Cut Method to accelerate output stack\n",
    "    Run 1D Conv over inputs\n",
    "    '''\n",
    "    def __init__(self, params):\n",
    "        super(WaveNet, self).__init__()\n",
    "\n",
    "        self.num_layers = len(params.dilations)\n",
    "        self.max_dilation = max(params.dilations)\n",
    "        self.residual_channels = params.residual_channels \n",
    "        self.skip_channels = params.skip_channels \n",
    "        self.quantization_channels = params.quantization_channels\n",
    "        \n",
    "        self.receptive_field = params.initial_filter_width + \\\n",
    "                               (params.filter_width - 1) * sum(params.dilations)\n",
    "        \n",
    "        self.dilate_layers = []\n",
    "        self.res_layers = []\n",
    "        self.skip_layers = []\n",
    "        \n",
    "        self.embed = tf.keras.layers.Embedding(self.quantization_channels, self.residual_channels)\n",
    "        self.conv_in = tf.keras.layers.Conv1D(self.residual_channels, params.initial_filter_width,\n",
    "                                              use_bias=False, activation='relu')\n",
    "        self.conv_out = tf.keras.layers.Conv1D(self.quantization_channels , 1, use_bias=False, activation='relu')\n",
    "        self.conv_end = tf.keras.layers.Conv1D(self.quantization_channels, 1, use_bias=False)\n",
    "\n",
    "        loop_factor = np.floor(np.log2(self.max_dilation)) + 1\n",
    "        for i in range(self.num_layers):\n",
    "            dilation = int(2 ** (i % loop_factor))\n",
    "            \n",
    "            # Kernel size is 2 in nv-wavenet\n",
    "            in_layer = tf.keras.layers.Conv1D(2 * params.residual_channels, kernel_size=2, padding='causal',\n",
    "                                              dilation_rate=dilation, use_bias=params.use_biases)\n",
    "            self.dilate_layers.append(in_layer)\n",
    "\n",
    "            # last one is not necessary\n",
    "            if i < self.num_layers - 1:\n",
    "                res_layer = tf.keras.layers.Conv1D(params.residual_channels, 1, use_bias=params.use_biases)\n",
    "                self.res_layers.append(res_layer)\n",
    "\n",
    "            skip_layer = tf.keras.layers.Conv1D(params.skip_channels, 1, use_bias=params.use_biases)\n",
    "\n",
    "            self.skip_layers.append(skip_layer)\n",
    "\n",
    "    def call(self, inp, mask):\n",
    "        output_width = int(inp.shape[1] - self.receptive_field + 1)\n",
    "\n",
    "        assert(np.max(inp) <= 1.)\n",
    "        assert(np.min(inp) >= 0.)\n",
    "\n",
    "        inp = self.embed(tf.cast(self.quantization_channels * (tf.squeeze(inp)), tf.int16))\n",
    "\n",
    "        inp = self.conv_in(inp)\n",
    "       \n",
    "        for i in range(self.num_layers):\n",
    "            in_act = self.dilate_layers[i](inp)\n",
    "            t_act = tf.tanh(in_act[:, :, :self.residual_channels])\n",
    "            s_act = tf.sigmoid(in_act[:, :, self.residual_channels:])\n",
    "            acts = t_act * s_act\n",
    "            if i < len(self.res_layers):\n",
    "                res_acts = self.res_layers[i](acts)\n",
    "            inp = res_acts + inp\n",
    "\n",
    "            if i == 0:\n",
    "                output = self.skip_layers[i](acts)[:,-output_width:]\n",
    "            else:\n",
    "                output = self.skip_layers[i](acts)[:,-output_width:] + output\n",
    "\n",
    "        output = tf.nn.relu(output)\n",
    "        output = self.conv_out(output)\n",
    "        output = tf.nn.relu(output)\n",
    "        output = self.conv_end(output)\n",
    "        \n",
    "        # Remove last probability and replace first value with 0's because we don't know\n",
    "\n",
    "        last = output[:, :, -1:]\n",
    "        output = output[:, :, :-1]\n",
    "        first = last * 0.0\n",
    "        output = tf.concat((first, output), 2)\n",
    "\n",
    "        return output"
   ]
  },
  {
   "cell_type": "code",
   "execution_count": 8,
   "metadata": {},
   "outputs": [],
   "source": [
    "model = WaveNet(hparams)\n",
    "#optimizer = tf.train.AdamOptimizer(learning_rate = hparams.learning_rate)\n",
    "optimizer = tf.train.RMSPropOptimizer(hparams.learning_rate)\n",
    "if True:\n",
    "    gaussian_filter = tf.keras.layers.Conv2D(1, kernel_size=(1,5), padding='same', use_bias=False,\n",
    "                        kernel_initializer = tf.initializers.constant([[.01, .05, .88, .05, .01]]))\n",
    "elif True:\n",
    "    gaussian_filter = tf.keras.layers.Conv2D(1, kernel_size=(1,3), padding='same', use_bias=False,\n",
    "                            kernel_initializer = tf.initializers.constant([[.01, .98, .01]]))"
   ]
  },
  {
   "cell_type": "code",
   "execution_count": 77,
   "metadata": {
    "scrolled": false
   },
   "outputs": [
    {
     "name": "stdout",
     "output_type": "stream",
     "text": [
      "0 :  1.083 0.763 0.319\n",
      "10 :  0.576 0.257 0.319\n",
      "20 :  1.087 0.767 0.319\n",
      "30 :  0.583 0.264 0.319\n",
      "40 :  1.077 0.757 0.319\n",
      "50 :  0.583 0.263 0.319\n",
      "60 :  1.084 0.765 0.319\n",
      "70 :  0.578 0.258 0.319\n",
      "80 :  1.072 0.753 0.319\n",
      "90 :  0.61 0.29 0.319\n"
     ]
    }
   ],
   "source": [
    "# Gaussian dilation embedded label\n",
    "ix = model.receptive_field + 1\n",
    "\n",
    "for epoch in range(100):\n",
    "    dataset, _, _ = load_data(hparams, normalise='random_scale_and_offset', isVerbose=False)\n",
    "\n",
    "    losses = []\n",
    "    for target, inp, mask, x_max in iter(dataset):\n",
    "        if epoch % 3 != 0:\n",
    "            inp, _ = jitter(inp, inp)\n",
    "            while np.max(inp) > 1 or np.min(inp) < 0:\n",
    "                inp, _ = jitter(inp, inp)\n",
    "        with tf.GradientTape() as tape:\n",
    "            pred = model(inp[:,:], None)\n",
    "\n",
    "            if epoch % 4 == 0:\n",
    "                # Apply Gaussian dilated loss\n",
    "                labels = create_gaussian_labels(inp[:,:])\n",
    "                ce_loss = tf.losses.softmax_cross_entropy(labels[:,ix:], pred[:,ix:])\n",
    "            else:\n",
    "                # Apply one-hot loss\n",
    "                ce_loss = tf.nn.sparse_softmax_cross_entropy_with_logits(\n",
    "                    labels=tf.cast(hparams.quantization_channels * (inp[:,ix:]), tf.int32)[:,:,0],\n",
    "                    logits=pred[:,ix:])\n",
    "                ce_loss = tf.reduce_mean(ce_loss)\n",
    "            l2_loss = tf.reduce_sum([tf.reduce_sum(var ** 2) * (1 if var.name.find('bias') == -1 else 0)\\\n",
    "                                     for var in model.trainable_variables]) * hparams.lambd\n",
    "            loss = tf.reduce_sum([ce_loss, l2_loss])\n",
    "            \n",
    "        # Update gradients\n",
    "        variables = model.variables\n",
    "        gradients = tape.gradient(loss, variables)\n",
    "        optimizer.apply_gradients(zip(gradients, variables))\n",
    "        losses.append(loss)\n",
    "    \n",
    "    #optimizer._learning_rate *= 0.999\n",
    "    if epoch % 10 == 0:\n",
    "        print(epoch, ': ', np.round(np.dstack(losses).mean(), 3), np.round(ce_loss, 3), np.round(l2_loss,3))"
   ]
  },
  {
   "cell_type": "code",
   "execution_count": 75,
   "metadata": {},
   "outputs": [
    {
     "data": {
      "image/png": "[encoded data removed]",
      "text/plain": [
       "<Figure size 432x288 with 1 Axes>"
      ]
     },
     "metadata": {
      "needs_background": "light"
     },
     "output_type": "display_data"
    }
   ],
   "source": [
    "target, inp, mask, x_max = next(iter(dataset))\n",
    "\n",
    "forecast = inp[:8,:]\n",
    "for n in range(48):\n",
    "    pred = model(forecast[:,-431:])\n",
    "    pred = tf.log(tf.nn.softmax(pred[:,-1]))\n",
    "    plt.plot(np.exp(pred[2]))\n",
    "    pred = tf.random.multinomial(pred, 1) / hparams.quantization_channels\n",
    "    #pred = tf.argmax(pred, -1) / (hparams.quantization_channels + 1)\n",
    "    pred = tf.reshape(tf.cast(pred, tf.float32), [-1,1,1])\n",
    "    forecast = tf.concat([forecast, pred], 1)\n",
    "\n",
    "plt.show()"
   ]
  },
  {
   "cell_type": "code",
   "execution_count": 76,
   "metadata": {},
   "outputs": [
    {
     "data": {
      "image/png": "[encoded data removed]",
      "text/plain": [
       "<Figure size 432x288 with 1 Axes>"
      ]
     },
     "metadata": {
      "needs_background": "light"
     },
     "output_type": "display_data"
    },
    {
     "data": {
      "image/png": "[encoded data removed]",
      "text/plain": [
       "<Figure size 432x288 with 1 Axes>"
      ]
     },
     "metadata": {
      "needs_background": "light"
     },
     "output_type": "display_data"
    },
    {
     "data": {
      "image/png": "[encoded data removed]",
      "text/plain": [
       "<Figure size 720x1440 with 1 Axes>"
      ]
     },
     "metadata": {
      "needs_background": "light"
     },
     "output_type": "display_data"
    }
   ],
   "source": [
    "plt.plot(np.squeeze(inp[2,:]) * hparams.quantization_channels)\n",
    "plt.axvline(x=431)\n",
    "#plt.plot(np.squeeze(np.concatenate([inp[0], inp[129]], axis=0)) * np.max(x_max))\n",
    "\n",
    "plt.plot(np.squeeze(forecast[2:4]).T * hparams.quantization_channels)\n",
    "plt.plot(np.convolve(forecast[2,:,0], [0.5, 0.5])[1:-1] * hparams.quantization_channels)\n",
    "plt.plot(np.convolve(forecast[3,:,0], [0.5, 0.5])[1:-1] * hparams.quantization_channels)\n",
    "\n",
    "\n",
    "plt.show()\n",
    "\n",
    "pred = model(forecast[:,-431:])\n",
    "plt.plot(np.squeeze(tf.nn.softmax(pred[0,-10:])).T)\n",
    "plt.show()\n",
    "plt.figure(figsize=(10,20))\n",
    "plt.imshow(np.squeeze(tf.nn.softmax(pred))[3].T)\n",
    "plt.show()"
   ]
  },
  {
   "cell_type": "markdown",
   "metadata": {},
   "source": [
    "## Continuous Model\n",
    "\n",
    "loss_function: Build out MSE loss function with parameter regularisation\n",
    "\n",
    "train_model: Runs the minibatch training loop"
   ]
  },
  {
   "cell_type": "code",
   "execution_count": null,
   "metadata": {},
   "outputs": [],
   "source": [
    "class WaveNet(tf.keras.Model):\n",
    "    '''\n",
    "    https://github.com/NVIDIA/nv-wavenet/blob/master/pytorch/wavenet.py\n",
    "    Teacher forcing model\n",
    "    '''\n",
    "    def __init__(self, params):\n",
    "        super(WaveNet, self).__init__()\n",
    "\n",
    "        self.num_layers = len(params['dilations'])\n",
    "        self.max_dilation = max(params['dilations'])\n",
    "        self.residual_channels = params['residual_channels'] \n",
    "        self.skip_channels = params['skip_channels'] \n",
    "        self.out_channels = params['quantization_channels']\n",
    "        \n",
    "        self.receptive_field = params['initial_filter_width'] - 1 + \\\n",
    "                               (params['filter_width'] - 1) * sum(params['dilations'])\n",
    "        \n",
    "        self.dilate_layers = []\n",
    "        self.res_layers = []\n",
    "        self.skip_layers = []\n",
    "        \n",
    "        #self.embed = tf.keras.layers.Embedding(self.out_channels, self.residual_channels)\n",
    "        self.conv_out = tf.keras.layers.Conv1D(params['quantization_channels'] , 1, use_bias=False)\n",
    "        self.conv_end = tf.keras.layers.Conv1D(1, 1, use_bias=False)\n",
    "\n",
    "        loop_factor = np.floor(np.log2(self.max_dilation)) + 1\n",
    "        for i in range(self.num_layers):\n",
    "            dilation = int(2 ** (i % loop_factor))\n",
    "            \n",
    "            # Kernel size is 2 in nv-wavenet\n",
    "            in_layer = tf.keras.layers.Conv1D(2 * params['residual_channels'], kernel_size=2,\n",
    "                                              dilation_rate=dilation, use_bias=params['use_biases'])\n",
    "            self.dilate_layers.append(in_layer)\n",
    "\n",
    "            # last one is not necessary\n",
    "            if i < self.num_layers - 1:\n",
    "                res_layer = [tf.keras.layers.Conv1D(params['residual_channels'], 1, use_bias=params['use_biases']),\n",
    "                             tf.keras.layers.Conv1D(params['residual_channels'], kernel_size=2,\n",
    "                                              dilation_rate=dilation, use_bias=params['use_biases'])]\n",
    "                self.res_layers.append(res_layer)\n",
    "\n",
    "            if i == 0:\n",
    "                skip_layer = [tf.keras.layers.Conv1D(params['skip_channels'], 1, use_bias=params['use_biases'])]\n",
    "            else:\n",
    "                skip_layer = [tf.keras.layers.Conv1D(params['skip_channels'], 1, use_bias=params['use_biases']),\n",
    "                              tf.keras.layers.Conv1D(params['skip_channels'], kernel_size=2,\n",
    "                                              dilation_rate=dilation, use_bias=params['use_biases'])]\n",
    "\n",
    "            self.skip_layers.append(skip_layer)\n",
    "\n",
    "    def call(self, inp, mask):\n",
    "       \n",
    "        for i in range(self.num_layers):\n",
    "            in_act = self.dilate_layers[i](inp)\n",
    "            t_act = tf.tanh(in_act[:, :, :self.residual_channels])\n",
    "            s_act = tf.sigmoid(in_act[:, :, self.residual_channels:])\n",
    "            acts = t_act * s_act\n",
    "            if i < len(self.res_layers):\n",
    "                res_acts = self.res_layers[i][0](acts)\n",
    "                inp = res_acts + self.res_layers[i][1](inp)\n",
    "\n",
    "            if i == 0:\n",
    "                output = self.skip_layers[i][0](acts)\n",
    "            else:\n",
    "                output = self.skip_layers[i][0](acts) + self.skip_layers[i][1](output)\n",
    "\n",
    "        output = tf.nn.relu(output)\n",
    "        output = self.conv_out(output)\n",
    "        output = tf.nn.relu(output)\n",
    "        output = self.conv_end(output)\n",
    "        \n",
    "        return output"
   ]
  },
  {
   "cell_type": "code",
   "execution_count": null,
   "metadata": {},
   "outputs": [],
   "source": [
    "model_ = WaveNet(params)\n",
    "optimizer_= tf.train.AdamOptimizer(learning_rate = hparams.learning_rate)"
   ]
  },
  {
   "cell_type": "code",
   "execution_count": null,
   "metadata": {},
   "outputs": [],
   "source": [
    "# Continuous Prediction\n",
    "for epoch in range(10):\n",
    "    losses = []\n",
    "    for inp, target, mask, x_max in iter(dataset):\n",
    "        inp, target = jitter(inp, target)\n",
    "        with tf.GradientTape() as tape:\n",
    "            pred = model_(inp[:,:-1], mask)\n",
    "            loss = tf.losses.mean_squared_error(inp[:,128:], pred)\n",
    "            \n",
    "        # Update gradients\n",
    "        variables = model_.variables\n",
    "        gradients = tape.gradient(loss, variables)\n",
    "        optimizer_.apply_gradients(zip(gradients, variables))\n",
    "        losses.append(loss)\n",
    "\n",
    "    print(epoch, ': ', np.dstack(losses).mean())"
   ]
  },
  {
   "cell_type": "code",
   "execution_count": null,
   "metadata": {},
   "outputs": [],
   "source": [
    "forecast = inp[:,:129]\n",
    "for _ in range(72):\n",
    "    pred = model_(forecast[:,-128:], mask)\n",
    "    forecast = tf.concat([forecast, pred], 1)"
   ]
  },
  {
   "cell_type": "code",
   "execution_count": null,
   "metadata": {},
   "outputs": [],
   "source": [
    "plt.plot(np.squeeze(forecast[:2]).T * np.max(x_max))\n",
    "plt.plot(np.squeeze(inp[0,:200]) * np.max(x_max))\n",
    "plt.show()\n",
    "\n",
    "plt.plot(np.squeeze(pred).T * np.max(x_max))"
   ]
  },
  {
   "cell_type": "code",
   "execution_count": null,
   "metadata": {},
   "outputs": [],
   "source": [
    "plt.plot(np.squeeze(inp[0::24, :72]).T)"
   ]
  },
  {
   "cell_type": "markdown",
   "metadata": {},
   "source": [
    "## Test Hyperparameters"
   ]
  },
  {
   "cell_type": "code",
   "execution_count": null,
   "metadata": {},
   "outputs": [],
   "source": [
    "np.random.seed(231)\n",
    "models, stats = [], []\n",
    "\n",
    "lr    = np.log10(hparams.learning_rate)\n",
    "nodes = hparams.neurons_unit\n",
    "\n",
    "inp, target, mask, x_max = next(iter(dataset))\n",
    "\n",
    "#for lr in np.random.uniform(-8, -1, 10):\n",
    "#for nodes in np.floor(2 ** np.arange(3,9)):\n",
    "for lr in range(-8, 0, 1):\n",
    "    lr /= 2\n",
    "\n",
    "    # Run a training batch\n",
    "    tf.set_random_seed(231) # Set seed\n",
    "\n",
    "    # Initialise model and optimiser\n",
    "    model_ = WaveNet(params)\n",
    "    optimizer_ = tf.train.AdamOptimizer(learning_rate = 10 ** lr)\n",
    "\n",
    "    # Start training run\n",
    "    loss, accuracy, run_time, stat = \\\n",
    "        trainer.train_model(model_, optimizer_, dataset, hparams, epochs = 3, verbose=False)\n",
    "    print('Learning Rate {:.4f} Loss {:.4f} Accuracy {:.4f} Time {:.1f}'.format(lr, loss*10000, accuracy * 10000, run_time))\n",
    "    \n",
    "    models.append(model_)\n",
    "    stats.append(stat)"
   ]
  },
  {
   "cell_type": "markdown",
   "metadata": {},
   "source": [
    "Learning Rate -3.5000 Loss 0.0254 Accuracy 0.0254 Time 32.2\n",
    "Learning Rate -3.0000 Loss 0.0247 Accuracy 0.0247 Time 31.2\n",
    "Learning Rate -2.5000 Loss 0.0254 Accuracy 0.0254 Time 31.5"
   ]
  },
  {
   "cell_type": "markdown",
   "metadata": {},
   "source": [
    "## Test Model Accuracy"
   ]
  },
  {
   "cell_type": "code",
   "execution_count": null,
   "metadata": {},
   "outputs": [],
   "source": [
    "model_accuracy = []"
   ]
  },
  {
   "cell_type": "code",
   "execution_count": null,
   "metadata": {},
   "outputs": [],
   "source": [
    "for name, dataset_eval in([['Train', dataset], ['Test', dataset_test]]):\n",
    "    print(name + ' Results')\n",
    "    total_accuracy = []\n",
    "    x_variance = x_var(hparams, mode=get_fields)\n",
    "\n",
    "    for i, (inp, target, mask, x_max) in enumerate(dataset_eval):\n",
    "        forecast = model(inp, mask)\n",
    "\n",
    "        accuracy = tf.squeeze(forecast - target) * x_max\n",
    "        accuracy = accuracy ** 2 / x_variance\n",
    "        accuracy = np.mean(accuracy, axis=0)\n",
    "\n",
    "        total_accuracy.append(accuracy)\n",
    "\n",
    "    model_accuracy.append((hparams.in_seq_len, np.mean(total_accuracy, axis=0)))\n",
    "\n",
    "    print('Total RSE Accuracy: %.4f' % np.mean(total_accuracy))\n",
    "    print('Total MSE Accuracy: %.4f' % (np.mean(total_accuracy) * x_variance))\n",
    "    plt.plot(np.mean(total_accuracy, axis=0))\n",
    "plt.show()"
   ]
  },
  {
   "cell_type": "markdown",
   "metadata": {},
   "source": [
    "https://github.com/ibab/tensorflow-wavenet\n",
    "https://github.com/basveeling/wavenet"
   ]
  }
 ],
 "metadata": {
  "kernelspec": {
   "display_name": "Python 3",
   "language": "python",
   "name": "python3"
  },
  "language_info": {
   "codemirror_mode": {
    "name": "ipython",
    "version": 3
   },
   "file_extension": ".py",
   "mimetype": "text/x-python",
   "name": "python",
   "nbconvert_exporter": "python",
   "pygments_lexer": "ipython3",
   "version": "3.6.5"
  }
 },
 "nbformat": 4,
 "nbformat_minor": 2
}
