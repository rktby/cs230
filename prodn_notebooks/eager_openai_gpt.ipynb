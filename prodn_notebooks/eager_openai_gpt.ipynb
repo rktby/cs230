{
 "cells": [
  {
   "cell_type": "code",
   "execution_count": 1,
   "metadata": {},
   "outputs": [
    {
     "name": "stderr",
     "output_type": "stream",
     "text": [
      "/Documents/venv3/lib/python3.6/site-packages/h5py/__init__.py:36: FutureWarning: Conversion of the second argument of issubdtype from `float` to `np.floating` is deprecated. In future, it will be treated as `np.float64 == np.dtype(float).type`.\n",
      "  from ._conv import register_converters as _register_converters\n"
     ]
    },
    {
     "name": "stdout",
     "output_type": "stream",
     "text": [
      "1.13.1\n"
     ]
    }
   ],
   "source": [
    "import numpy as np\n",
    "import pandas as pd\n",
    "import tensorflow as tf\n",
    "\n",
    "tf.enable_eager_execution()\n",
    "tf.set_random_seed(230)\n",
    "print(tf.__version__)\n",
    "\n",
    "from matplotlib import pyplot as plt\n",
    "\n",
    "import sys\n",
    "sys.path.append('..')"
   ]
  },
  {
   "cell_type": "code",
   "execution_count": 2,
   "metadata": {},
   "outputs": [
    {
     "name": "stdout",
     "output_type": "stream",
     "text": [
      "\n",
      "WARNING: The TensorFlow contrib module will not be included in TensorFlow 2.0.\n",
      "For more information, please see:\n",
      "  * https://github.com/tensorflow/community/blob/master/rfcs/20180907-contrib-sunset.md\n",
      "  * https://github.com/tensorflow/addons\n",
      "If you depend on functionality not listed there, please file an issue.\n",
      "\n",
      "[('batch_size', 800), ('datagen', 'biogas'), ('dilation_channels', 16), ('dilations', [1, 2, 4, 8, 16, 32, 64]), ('filter_width', 2), ('in_seq_len', 258), ('initial_filter_width', 2), ('input_channels', 1), ('input_dim', 1), ('lambd', 1e-10), ('learning_rate', 0.01), ('logs_path', '/tmp/tensorflow_logs'), ('lr_decay', 0.995), ('norm_epsilon', 1e-12), ('out_seq_len', 24), ('output_channels', 1), ('output_dim', 1), ('quantization_channels', 100), ('residual_channels', 16), ('sample_rate', 24), ('scalar_input', False), ('skip_channels', 32), ('test_split', 0.1), ('train_split', 0.8), ('use_biases', True), ('val_split', 0.1)]\n"
     ]
    }
   ],
   "source": [
    "from configs.wavenet_biogas import hparams\n",
    "hparams = hparams()\n",
    "print(hparams)"
   ]
  },
  {
   "cell_type": "code",
   "execution_count": 31,
   "metadata": {},
   "outputs": [],
   "source": [
    "hparams.num_layers  = 3\n",
    "hparams.quantization_channels = 100\n",
    "hparams.time_channels = 3 * 24\n",
    "hparams.embd_pdrop  = 0.2\n",
    "hparams.attn_pdrop  = 0.2\n",
    "hparams.resid_pdrop = 0.2\n",
    "hparams.num_states  = 64\n",
    "hparams.num_heads   = 4\n",
    "hparams.learning_rate = 1e-4\n",
    "hparams.batch_size = 100\n",
    "hparams.in_seq_len = 24\n",
    "hparams.out_seq_len = 24 * 5\n",
    "hparams.lambd=1e-6"
   ]
  },
  {
   "cell_type": "code",
   "execution_count": 4,
   "metadata": {},
   "outputs": [
    {
     "name": "stdout",
     "output_type": "stream",
     "text": [
      "Added x, y data\n",
      "Added y_mask data\n",
      "Added x_max data\n",
      "WARNING:tensorflow:From /Documents/venv3/lib/python3.6/site-packages/tensorflow/python/data/ops/iterator_ops.py:532: colocate_with (from tensorflow.python.framework.ops) is deprecated and will be removed in a future version.\n",
      "Instructions for updating:\n",
      "Colocations handled automatically by placer.\n"
     ]
    }
   ],
   "source": [
    "from data_loader.sin import *\n",
    "dataset, dataset_val, dataset_test = load_data(hparams, mode='random_frequency', normalise='random_scale_and_offset',\n",
    "                                              add_time_embedding=True, offset_time_embedding=hparams.quantization_channels+1)\n",
    "target, inp, mask, x_max = next(iter(dataset))"
   ]
  },
  {
   "cell_type": "code",
   "execution_count": 5,
   "metadata": {},
   "outputs": [],
   "source": [
    "def jitter(inp, target):\n",
    "    delta = tf.random.uniform((inp.shape[0],1,1), -0.05, 0.05)\n",
    "    inp = inp + delta\n",
    "    target = target + delta\n",
    "\n",
    "    for _ in range(3):\n",
    "        delta = tf.reduce_min(tf.minimum(tf.concat([inp, target], 1),0), axis=1, keepdims=True)\n",
    "        inp = inp - 2 * delta\n",
    "        target = target - 2 * delta\n",
    "\n",
    "        delta = tf.reduce_max(tf.maximum(tf.concat([inp, target], 1) - 1,0), axis=1, keepdims=True)\n",
    "        inp = inp - 2 * delta\n",
    "        target = target - 2 * delta\n",
    "        \n",
    "    return inp, target\n",
    "\n",
    "def create_gaussian_labels(inp):\n",
    "    labels = tf.cast(hparams.quantization_channels * (inp), tf.int32)\n",
    "    labels = tf.one_hot(labels, (hparams.quantization_channels+1))\n",
    "    labels = tf.transpose(labels, [0,1,3,2])\n",
    "    labels = gaussian_filter(labels)\n",
    "    labels = tf.squeeze(labels)\n",
    "    return labels"
   ]
  },
  {
   "cell_type": "code",
   "execution_count": 37,
   "metadata": {},
   "outputs": [],
   "source": [
    "class GPT(tf.keras.Model):\n",
    "    '''\n",
    "    https://github.com/NVIDIA/nv-wavenet/blob/master/pytorch/wavenet.py\n",
    "    '''\n",
    "    def __init__(self, params, condition_model=False):\n",
    "        super(GPT, self).__init__()\n",
    "\n",
    "        self.num_layers            = params.num_layers\n",
    "        self.quantization_channels = params.quantization_channels\n",
    "        self.time_channels         = params.time_channels\n",
    "        self.embd_pdrop            = params.embd_pdrop\n",
    "        self.attn_pdrop            = params.attn_pdrop\n",
    "        self.resid_pdrop           = params.resid_pdrop\n",
    "        self.num_states            = params.num_states\n",
    "        self.num_heads             = params.num_heads\n",
    "        \n",
    "        self.we = tf.get_variable('embedding', [self.quantization_channels + self.time_channels + 1, self.num_states],\n",
    "                                  initializer=tf.random_normal_initializer(stddev=0.02))\n",
    "        #self.embed = tf.keras.layers.Embedding(self.quantization_channels + 1, self.num_states,\n",
    "                                               #name='embedding')\n",
    "            # Need an extra channel to create enough buckets e.g. [0-100] Needs 101 channels\n",
    "\n",
    "        self.attn_layers = []\n",
    "        self.norm_layers = []\n",
    "        self.mlp_layers  = []\n",
    "        for ix in range(self.num_layers):\n",
    "            self._block(ix)\n",
    "\n",
    "\n",
    "    ##########################################\n",
    "    # Build functions\n",
    "    ##########################################\n",
    "    def _block(self, ix, scale=False):\n",
    "        a = self._attn(ix, self.num_states, self.num_heads)\n",
    "        self.attn_layers.append(a)\n",
    "\n",
    "        g1 = tf.get_variable('g1_%i' % ix, [self.num_states], initializer=tf.constant_initializer(1))\n",
    "        b1 = tf.get_variable('b1_%i' % ix, [self.num_states], initializer=tf.constant_initializer(0))\n",
    "        g2 = tf.get_variable('g2_%i' % ix, [self.num_states], initializer=tf.constant_initializer(1))\n",
    "        b2 = tf.get_variable('b2_%i' % ix, [self.num_states], initializer=tf.constant_initializer(0))\n",
    "        self.norm_layers.append({'g1': g1, 'b1': b1, 'g2': g2, 'b2': b2})\n",
    "        \n",
    "        m_fc   = tf.keras.layers.Conv1D(self.num_states * 4, 1, name='mlp_fc_%i' % ix, activation='relu')\n",
    "        m_proj = tf.keras.layers.Conv1D(self.num_states,     1, name='mlp_proj_%i' % ix)\n",
    "        self.mlp_layers.append({'fc': m_fc, 'proj': m_proj})\n",
    "\n",
    "        return\n",
    "\n",
    "    def _attn(self, i, n_state, n_head):\n",
    "        assert n_state%n_head==0\n",
    "        layer = {}\n",
    "        layer['conv']  = tf.keras.layers.Conv1D(n_state*3, kernel_size=1, padding='valid', name='conv_attn_%i' % i)\n",
    "        layer['resid'] = tf.keras.layers.Conv1D(n_state,   kernel_size=1, padding='valid', name='proj_attn_%i' % i)\n",
    "        return layer\n",
    "            \n",
    "    ##########################################\n",
    "    # Call functions\n",
    "    ##########################################\n",
    "    def embed(self, x):\n",
    "        e = tf.cast(x, tf.int32)\n",
    "        e = tf.gather(self.we, e)\n",
    "        e = tf.reduce_sum(e, 2)\n",
    "        return e\n",
    "    \n",
    "    def block(self, x, i, train=False, scale=False):\n",
    "        a = self.attn(x, i, train=train)\n",
    "        n = self.norm(x+a, g=self.norm_layers[i]['g1'], b=self.norm_layers[i]['b1'])\n",
    "        m = self.mlp(n, i)\n",
    "        h = self.norm(n+m, g=self.norm_layers[i]['g2'], b=self.norm_layers[i]['b2'])\n",
    "        return h\n",
    "\n",
    "    def attn(self, x, i, train=False):\n",
    "        nm, nx, nf = x.shape.as_list() # Batch size, batch length, num filters\n",
    "        nh = self.num_heads            # Num heads\n",
    "        ns = nf // nh                  # Num split filters\n",
    "\n",
    "        # Extract keys, queries and values\n",
    "        c = self.attn_layers[i]['conv'](x)\n",
    "        k, q, v = tf.split(c, 3, 2)\n",
    "        k = tf.transpose(tf.reshape(k, [nm, nx, nh, ns]), [0, 2, 3, 1])\n",
    "        q = tf.transpose(tf.reshape(q, [nm, nx, nh, ns]), [0, 2, 1, 3])\n",
    "        v = tf.transpose(tf.reshape(v, [nm, nx, nh, ns]), [0, 2, 1, 3])\n",
    "        \n",
    "        # Attention Calculation\n",
    "        w = tf.matmul(q, k)\n",
    "                         \n",
    "        # Mask Attention\n",
    "        b = tf.matrix_band_part(tf.ones([nx, nx]), -1, 0)\n",
    "        b = tf.reshape(b, [1, 1, nx, nx])\n",
    "        w = w*b + -1e9*(1-b)\n",
    "\n",
    "        # Apply Attention Weights\n",
    "        w = tf.nn.softmax(w)\n",
    "        if train: w = tf.nn.dropout(w, keep_prob=1-self.attn_pdrop)\n",
    "\n",
    "        a = tf.matmul(w, v)\n",
    "        a = tf.reshape(a, [nm, nx, nf])\n",
    "        \n",
    "        a = self.attn_layers[i]['resid'](a)\n",
    "        if train: a = tf.nn.dropout(a, keep_prob=1-self.resid_pdrop)\n",
    "\n",
    "        return a\n",
    "    \n",
    "    def norm(self, x, g=None, b=None, e=1e-5, axis=[1]):\n",
    "        u = tf.reduce_mean(x, axis=axis, keep_dims=True)\n",
    "        s = tf.reduce_mean(tf.square(x-u), axis=axis, keep_dims=True)\n",
    "        x = (x - u) * tf.rsqrt(s + e)\n",
    "        if g is not None and b is not None:\n",
    "            x = x*g + b\n",
    "        return x\n",
    "    \n",
    "    def mlp(self, x, i, train=False):\n",
    "        x = self.mlp_layers[i]['fc'](x)\n",
    "        x = self.mlp_layers[i]['proj'](x)\n",
    "        if train: x = tf.nn.dropout(x, keep_prob=1-self.resid_pdrop)\n",
    "        return x\n",
    "    \n",
    "    def call(self, inp, mask=None, train=False):\n",
    "        \n",
    "        inp = self.embed(inp)\n",
    "        if train: inp = tf.nn.dropout(inp, keep_prob=1-self.embd_pdrop)\n",
    "\n",
    "        for i in range(self.num_layers):\n",
    "            inp = self.block(inp, i, train=train)\n",
    "        \n",
    "        inp = tf.keras.backend.dot(inp, tf.transpose(model.we))\n",
    "        \n",
    "        return inp"
   ]
  },
  {
   "cell_type": "code",
   "execution_count": 38,
   "metadata": {},
   "outputs": [],
   "source": [
    "model = GPT(hparams)\n",
    "optimizer = tf.train.AdamOptimizer(learning_rate = hparams.learning_rate)\n",
    "#optimizer = tf.train.RMSPropOptimizer(hparams.learning_rate)\n",
    "if True:\n",
    "    gaussian_filter = tf.keras.layers.Conv2D(1, kernel_size=(1,5), padding='same', use_bias=False,\n",
    "                        kernel_initializer = tf.initializers.constant([[.01, .05, .88, .05, .01]]))\n",
    "elif True:\n",
    "    gaussian_filter = tf.keras.layers.Conv2D(1, kernel_size=(1,3), padding='same', use_bias=False,\n",
    "                            kernel_initializer = tf.initializers.constant([[.01, .98, .01]]))"
   ]
  },
  {
   "cell_type": "code",
   "execution_count": null,
   "metadata": {
    "scrolled": false
   },
   "outputs": [
    {
     "name": "stdout",
     "output_type": "stream",
     "text": [
      "Added x, y data\n",
      "Added y_mask data\n",
      "Added x_max data\n",
      "0 :  5.106 5.104 0.001\n",
      "1 :  5.101 5.099 0.001\n",
      "2 :  5.1 5.099 0.001\n",
      "3 :  5.096 5.094 0.001\n",
      "4 :  5.096 5.094 0.001\n",
      "5 :  5.094 5.092 0.001\n",
      "6 :  5.09 5.089 0.001\n",
      "7 :  5.087 5.086 0.001\n",
      "8 :  5.085 5.083 0.001\n",
      "9 :  5.084 5.083 0.001\n",
      "Added x, y data\n",
      "Added y_mask data\n",
      "Added x_max data\n",
      "10 :  5.066 5.065 0.001\n",
      "11 :  5.066 5.064 0.001\n",
      "12 :  5.062 5.06 0.001\n",
      "13 :  5.06 5.059 0.001\n",
      "14 :  5.059 5.058 0.001\n",
      "15 :  5.054 5.053 0.001\n",
      "16 :  5.052 5.051 0.001\n",
      "17 :  5.05 5.048 0.001\n",
      "18 :  5.045 5.044 0.001\n",
      "19 :  5.044 5.042 0.001\n",
      "Added x, y data\n",
      "Added y_mask data\n",
      "Added x_max data\n",
      "20 :  5.058 5.056 0.001\n",
      "21 :  5.056 5.055 0.001\n",
      "22 :  5.055 5.054 0.001\n",
      "23 :  5.052 5.05 0.001\n",
      "24 :  5.048 5.047 0.001\n",
      "25 :  5.046 5.045 0.001\n",
      "26 :  5.043 5.042 0.001\n",
      "27 :  5.041 5.039 0.001\n",
      "28 :  5.037 5.035 0.001\n",
      "29 :  5.036 5.035 0.001\n",
      "Added x, y data\n",
      "Added y_mask data\n",
      "Added x_max data\n",
      "30 :  5.032 5.031 0.001\n",
      "31 :  5.03 5.029 0.001\n",
      "32 :  5.028 5.027 0.001\n",
      "33 :  5.023 5.022 0.001\n",
      "34 :  5.021 5.02 0.001\n",
      "35 :  5.02 5.018 0.001\n",
      "36 :  5.014 5.013 0.001\n",
      "37 :  5.013 5.011 0.001\n",
      "38 :  5.008 5.006 0.001\n",
      "39 :  5.006 5.004 0.001\n",
      "Added x, y data\n",
      "Added y_mask data\n",
      "Added x_max data\n",
      "40 :  5.005 5.004 0.001\n",
      "41 :  5.002 5.001 0.001\n",
      "42 :  4.998 4.997 0.001\n",
      "43 :  4.996 4.995 0.001\n",
      "44 :  4.993 4.992 0.001\n",
      "45 :  4.989 4.987 0.001\n",
      "46 :  4.987 4.985 0.001\n",
      "47 :  4.981 4.98 0.001\n",
      "48 :  4.977 4.976 0.001\n",
      "49 :  4.972 4.97 0.001\n",
      "Added x, y data\n",
      "Added y_mask data\n",
      "Added x_max data\n",
      "50 :  4.968 4.967 0.001\n",
      "51 :  4.964 4.962 0.001\n",
      "52 :  4.961 4.96 0.001\n",
      "53 :  4.956 4.955 0.001\n",
      "54 :  4.951 4.95 0.001\n",
      "55 :  4.95 4.948 0.001\n",
      "56 :  4.944 4.942 0.001\n",
      "57 :  4.94 4.938 0.001\n",
      "58 :  4.934 4.933 0.001\n",
      "59 :  4.929 4.928 0.001\n",
      "Added x, y data\n",
      "Added y_mask data\n",
      "Added x_max data\n",
      "60 :  4.938 4.936 0.001\n",
      "61 :  4.93 4.928 0.001\n",
      "62 :  4.929 4.928 0.001\n",
      "63 :  4.924 4.922 0.001\n",
      "64 :  4.917 4.916 0.001\n",
      "65 :  4.912 4.911 0.001\n"
     ]
    }
   ],
   "source": [
    "# Gaussian dilation embedded label\n",
    "for epoch in range(500):\n",
    "    if epoch % 10 == 0:\n",
    "        dataset, _, _ = load_data(hparams, mode='random_frequency', normalise='random_scale_and_offset', isVerbose=False\n",
    "                                  add_time_embedding=True, offset_time_embedding=hparams.quantization_channels+1)\n",
    "    losses = []\n",
    "    for target, inp, mask, x_max in iter(dataset):\n",
    "        with tf.GradientTape() as tape:\n",
    "            inp = tf.stack([inp[:,:,:1]*101, inp[:,:,1:]*x_max[:,:,1:]], axis=2)[:,:,:,0]\n",
    "            pred = model(inp, train=True)[:,:-1]\n",
    "\n",
    "            labels=tf.cast(inp[:, 1:, 0], tf.int32)\n",
    "            ce_loss = tf.nn.sparse_softmax_cross_entropy_with_logits(logits=pred, labels=labels)\n",
    "            ce_loss = tf.reduce_mean(ce_loss)\n",
    "            \n",
    "            l2_loss = tf.reduce_sum([tf.reduce_sum(var ** 2) * (1 if var.name.find('bias') == -1 else 0)\\\n",
    "                                     for var in model.trainable_variables]) * hparams.lambd\n",
    "            \n",
    "            loss = tf.reduce_sum([ce_loss, l2_loss])\n",
    "            \n",
    "        # Update gradients\n",
    "        variables = model.variables\n",
    "        gradients = tape.gradient(loss, variables)\n",
    "        optimizer.apply_gradients(zip(gradients, variables))\n",
    "        losses.append(loss)\n",
    "    \n",
    "    #optimizer._learning_rate *= 0.999\n",
    "    if epoch % 1 == 0:\n",
    "        print(epoch, ': ', np.round(np.dstack(losses).mean(), 3), np.round(ce_loss, 3), np.round(l2_loss,3))"
   ]
  },
  {
   "cell_type": "code",
   "execution_count": null,
   "metadata": {
    "scrolled": false
   },
   "outputs": [],
   "source": [
    "# Gaussian dilation embedded label\n",
    "ix = model.receptive_field + 1\n",
    "\n",
    "for epoch in range(200):\n",
    "    if epoch % 10 == 0:\n",
    "        dataset, _, _ = load_data(hparams, normalise='random_scale_and_offset')\n",
    "\n",
    "    losses = []\n",
    "    for target, inp, mask, x_max in iter(dataset):\n",
    "        inp = inp[:10]\n",
    "        mask = mask[:10]\n",
    "        if epoch % 3 != 0:\n",
    "            inp, _ = jitter(inp, inp)\n",
    "        with tf.GradientTape() as tape:\n",
    "            pred = model(inp[:,:], None)\n",
    "\n",
    "            if epoch % 2 == 0:\n",
    "                # Apply Gaussian dilated loss\n",
    "                labels = create_gaussian_labels(inp[:,:])\n",
    "                ce_loss = tf.losses.softmax_cross_entropy(labels[:,ix:], pred[:,ix:])\n",
    "            else:\n",
    "                # Apply one-hot loss\n",
    "                ce_loss = tf.nn.sparse_softmax_cross_entropy_with_logits(\n",
    "                    labels=tf.cast(hparams.quantization_channels * (inp[:,ix:]), tf.int32)[:,:,0],\n",
    "                    logits=pred[:,ix:])\n",
    "                ce_loss = tf.reduce_mean(ce_loss)\n",
    "            l2_loss = tf.reduce_sum([tf.reduce_sum(var ** 2) * (1 if var.name.find('bias') == -1 else 0)\\\n",
    "                                     for var in model.trainable_variables]) * hparams.lambd\n",
    "            loss = tf.reduce_sum([ce_loss, l2_loss])\n",
    "            \n",
    "        # Update gradients\n",
    "        variables = model.variables\n",
    "        gradients = tape.gradient(loss, variables)\n",
    "        optimizer.apply_gradients(zip(gradients, variables))\n",
    "        losses.append(loss)\n",
    "    \n",
    "    #optimizer._learning_rate *= 0.999\n",
    "    if epoch % 1 == 0:\n",
    "        print(epoch, ': ', np.round(np.dstack(losses).mean(), 3), np.round(ce_loss, 3), np.round(l2_loss,3))"
   ]
  },
  {
   "cell_type": "code",
   "execution_count": 37,
   "metadata": {},
   "outputs": [
    {
     "data": {
      "image/png": "[encoded data removed]",
      "text/plain": [
       "<Figure size 432x288 with 1 Axes>"
      ]
     },
     "metadata": {
      "needs_background": "light"
     },
     "output_type": "display_data"
    }
   ],
   "source": [
    "target, inp, mask, x_max = next(iter(dataset))\n",
    "\n",
    "forecast = inp[:8,:]\n",
    "blank    = tf.zeros_like(forecast[:,-1:])\n",
    "forecast = tf.concat([forecast, blank], 1)\n",
    "for n in range(120-12, 120-2):\n",
    "    pred = model(forecast[:,-120:], train=False)\n",
    "    pred = tf.log(tf.nn.softmax(pred[:,n]))\n",
    "    pred = tf.random.multinomial(pred, 1) / hparams.quantization_channels\n",
    "    #pred = tf.argmax(pred, -1) / (hparams.quantization_channels + 1)\n",
    "    pred = tf.reshape(tf.cast(pred, tf.float32), [-1,1,1])\n",
    "    forecast = tf.concat([forecast[:,:n+1], pred, forecast[:,n+2:]], 1)\n",
    "    \n",
    "for n in range(24):\n",
    "    pred = model(forecast[:,-120:], train=False)\n",
    "    pred = tf.log(tf.nn.softmax(pred[:,-1]))\n",
    "    plt.plot(np.exp(pred[0]))\n",
    "\n",
    "    pred = tf.random.multinomial(pred, 1) / hparams.quantization_channels\n",
    "    #pred = tf.argmax(pred, -1) / (hparams.quantization_channels + 1)\n",
    "    pred = tf.reshape(tf.cast(pred, tf.float32), [-1,1,1])\n",
    "    forecast = tf.concat([forecast[:,:-1], pred, blank], 1)\n",
    "    \n",
    "\n",
    "plt.show()\n",
    "    "
   ]
  },
  {
   "cell_type": "code",
   "execution_count": 38,
   "metadata": {},
   "outputs": [
    {
     "data": {
      "image/png": "[encoded data removed]",
      "text/plain": [
       "<Figure size 432x288 with 1 Axes>"
      ]
     },
     "metadata": {
      "needs_background": "light"
     },
     "output_type": "display_data"
    },
    {
     "data": {
      "image/png": "[encoded data removed]",
      "text/plain": [
       "<Figure size 432x288 with 1 Axes>"
      ]
     },
     "metadata": {
      "needs_background": "light"
     },
     "output_type": "display_data"
    },
    {
     "data": {
      "image/png": "[encoded data removed]",
      "text/plain": [
       "<Figure size 432x288 with 1 Axes>"
      ]
     },
     "metadata": {
      "needs_background": "light"
     },
     "output_type": "display_data"
    }
   ],
   "source": [
    "TARGET = 0\n",
    "plt.plot(np.squeeze(inp[TARGET,:]) * hparams.quantization_channels)\n",
    "plt.axvline(x=120-12)\n",
    "plt.axvline(x=120)\n",
    "#plt.plot(np.squeeze(np.concatenate([inp[0], inp[129]], axis=0)) * np.max(x_max))\n",
    "\n",
    "plt.plot(np.squeeze(forecast[TARGET]).T * hparams.quantization_channels)\n",
    "plt.plot(np.convolve(forecast[TARGET,:,0], [0.5, 0.5])[1:-1] * hparams.quantization_channels)\n",
    "#plt.plot(np.convolve(forecast[3,:,0], [0.5, 0.5])[1:-1] * np.max(x_max))\n",
    "\n",
    "\n",
    "plt.show()\n",
    "\n",
    "pred = model(inp[:TARGET+2])\n",
    "pred = tf.reshape(pred, [TARGET+2, 120-1, -1])\n",
    "plt.plot(np.squeeze(tf.nn.softmax(pred[TARGET,-10:])).T)\n",
    "plt.show()\n",
    "plt.imshow(np.squeeze(tf.nn.softmax(pred))[TARGET].T)\n",
    "plt.show()"
   ]
  },
  {
   "cell_type": "markdown",
   "metadata": {},
   "source": [
    "## Save Model"
   ]
  },
  {
   "cell_type": "code",
   "execution_count": 36,
   "metadata": {},
   "outputs": [],
   "source": [
    "import h5py\n",
    "import time, datetime, os\n",
    "\n",
    "def save_model(model, optimizer, dataset, hparams, name, stats=None, path='../outputs/'):\n",
    "    \"\"\"\n",
    "    Method for saving model, parameters, hyperparameters and outputs\n",
    "    \"\"\"\n",
    "    path += name + '_' + datetime.datetime.now().strftime('%y-%m-%d-%H_%M_%S') + '/'\n",
    "    os.mkdir(path)\n",
    "\n",
    "    # Save model and parameters\n",
    "    checkpoint = tf.train.Checkpoint(optimizer=optimizer, model=model)\n",
    "    checkpoint.save(file_prefix = path)\n",
    "\n",
    "    # Save hyperparameters\n",
    "    with open(path + 'hparams.json', 'w') as file:\n",
    "        file.write(hparams.to_json())\n",
    "\n",
    "    # Save predictions and actual data\n",
    "    preds, acts, maxs = [], [], []\n",
    "    for inp, target, mask, x_max in dataset:\n",
    "        pred = model(inp, mask)\n",
    "        preds.extend(np.array(pred))\n",
    "        acts.extend(np.array(target))\n",
    "        maxs.extend(np.array(x_max))\n",
    "\n",
    "    with h5py.File(path + 'data.hdf5', 'w') as file:\n",
    "        file.create_dataset('actual', data=np.array(acts))\n",
    "        file.create_dataset('predicted', data=np.array(preds))\n",
    "        file.create_dataset('x_max', data=np.array(x_max))\n",
    "        if stats != None:\n",
    "            for stat_name, stat in stats.items():\n",
    "                file.create_dataset('stat_' + stat_name, data=np.array(stat))\n",
    "                \n",
    "\n",
    "save_model(model, optimizer, dataset, hparams, 'gpt-discrete-sin-test-random-period', stats=None, path='../outputs/')"
   ]
  },
  {
   "cell_type": "markdown",
   "metadata": {},
   "source": [
    "## Test Hyperparameters"
   ]
  },
  {
   "cell_type": "code",
   "execution_count": null,
   "metadata": {},
   "outputs": [],
   "source": [
    "np.random.seed(231)\n",
    "models, stats = [], []\n",
    "\n",
    "lr    = np.log10(hparams.learning_rate)\n",
    "nodes = hparams.neurons_unit\n",
    "\n",
    "inp, target, mask, x_max = next(iter(dataset))\n",
    "\n",
    "#for lr in np.random.uniform(-8, -1, 10):\n",
    "#for nodes in np.floor(2 ** np.arange(3,9)):\n",
    "for lr in range(-8, 0, 1):\n",
    "    lr /= 2\n",
    "\n",
    "    # Run a training batch\n",
    "    tf.set_random_seed(231) # Set seed\n",
    "\n",
    "    # Initialise model and optimiser\n",
    "    model_ = WaveNet(params)\n",
    "    optimizer_ = tf.train.AdamOptimizer(learning_rate = 10 ** lr)\n",
    "\n",
    "    # Start training run\n",
    "    loss, accuracy, run_time, stat = \\\n",
    "        trainer.train_model(model_, optimizer_, dataset, hparams, epochs = 3, verbose=False)\n",
    "    print('Learning Rate {:.4f} Loss {:.4f} Accuracy {:.4f} Time {:.1f}'.format(lr, loss*10000, accuracy * 10000, run_time))\n",
    "    \n",
    "    models.append(model_)\n",
    "    stats.append(stat)"
   ]
  },
  {
   "cell_type": "markdown",
   "metadata": {},
   "source": [
    "Learning Rate -3.5000 Loss 0.0254 Accuracy 0.0254 Time 32.2\n",
    "Learning Rate -3.0000 Loss 0.0247 Accuracy 0.0247 Time 31.2\n",
    "Learning Rate -2.5000 Loss 0.0254 Accuracy 0.0254 Time 31.5"
   ]
  },
  {
   "cell_type": "markdown",
   "metadata": {},
   "source": [
    "## Test Model Accuracy"
   ]
  },
  {
   "cell_type": "code",
   "execution_count": null,
   "metadata": {},
   "outputs": [],
   "source": [
    "model_accuracy = []"
   ]
  },
  {
   "cell_type": "code",
   "execution_count": null,
   "metadata": {},
   "outputs": [],
   "source": [
    "for name, dataset_eval in([['Train', dataset], ['Test', dataset_test]]):\n",
    "    print(name + ' Results')\n",
    "    total_accuracy = []\n",
    "    x_variance = x_var(hparams, mode=get_fields)\n",
    "\n",
    "    for i, (inp, target, mask, x_max) in enumerate(dataset_eval):\n",
    "        forecast = model(inp, mask)\n",
    "\n",
    "        accuracy = tf.squeeze(forecast - target) * x_max\n",
    "        accuracy = accuracy ** 2 / x_variance\n",
    "        accuracy = np.mean(accuracy, axis=0)\n",
    "\n",
    "        total_accuracy.append(accuracy)\n",
    "\n",
    "    model_accuracy.append((hparams.in_seq_len, np.mean(total_accuracy, axis=0)))\n",
    "\n",
    "    print('Total RSE Accuracy: %.4f' % np.mean(total_accuracy))\n",
    "    print('Total MSE Accuracy: %.4f' % (np.mean(total_accuracy) * x_variance))\n",
    "    plt.plot(np.mean(total_accuracy, axis=0))\n",
    "plt.show()"
   ]
  },
  {
   "cell_type": "markdown",
   "metadata": {},
   "source": [
    "https://openai.com/blog/better-language-models/\n",
    "\n",
    "https://github.com/openai/finetune-transformer-lm"
   ]
  }
 ],
 "metadata": {
  "kernelspec": {
   "display_name": "Python 3",
   "language": "python",
   "name": "python3"
  },
  "language_info": {
   "codemirror_mode": {
    "name": "ipython",
    "version": 3
   },
   "file_extension": ".py",
   "mimetype": "text/x-python",
   "name": "python",
   "nbconvert_exporter": "python",
   "pygments_lexer": "ipython3",
   "version": "3.6.5"
  }
 },
 "nbformat": 4,
 "nbformat_minor": 2
}
