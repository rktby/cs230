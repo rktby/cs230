{
 "cells": [
  {
   "cell_type": "code",
   "execution_count": 1,
   "metadata": {},
   "outputs": [
    {
     "name": "stderr",
     "output_type": "stream",
     "text": [
      "/Documents/venv3/lib/python3.6/site-packages/h5py/__init__.py:36: FutureWarning: Conversion of the second argument of issubdtype from `float` to `np.floating` is deprecated. In future, it will be treated as `np.float64 == np.dtype(float).type`.\n",
      "  from ._conv import register_converters as _register_converters\n"
     ]
    },
    {
     "name": "stdout",
     "output_type": "stream",
     "text": [
      "1.11.0\n"
     ]
    }
   ],
   "source": [
    "import numpy as np\n",
    "import pandas as pd\n",
    "import tensorflow as tf\n",
    "\n",
    "tf.enable_eager_execution()\n",
    "tf.set_random_seed(230)\n",
    "print(tf.__version__)\n",
    "\n",
    "from matplotlib import pyplot as plt\n",
    "\n",
    "import sys\n",
    "sys.path.append('..')"
   ]
  },
  {
   "cell_type": "code",
   "execution_count": 20,
   "metadata": {},
   "outputs": [
    {
     "name": "stdout",
     "output_type": "stream",
     "text": [
      "[('batch_size', 800), ('datagen', 'prodn'), ('in_seq_len', 120), ('input_channels', 2), ('input_dim', 1), ('lambd', 1e-06), ('learning_rate', 0.001), ('logs_path', '/tmp/tensorflow_logs'), ('lr_decay', 0.99), ('neurons_unit', 32), ('norm_epsilon', 1e-12), ('num_layers', 1), ('out_seq_len', 24), ('output_channels', 2), ('output_dim', 1), ('test_split', 0.1), ('train_split', 0.8), ('val_split', 0.1)]\n"
     ]
    }
   ],
   "source": [
    "from configs.seq_bidirectional_fd_gru import hparams\n",
    "hparams = hparams()\n",
    "print(hparams)"
   ]
  },
  {
   "cell_type": "code",
   "execution_count": 24,
   "metadata": {},
   "outputs": [],
   "source": [
    "from data_loader.biogas import *\n",
    "get_fields = 'AT305 AT303 FT202'\n",
    "get_fields = 'AT305 AT303'\n",
    "dataset, dataset_val, dataset_test = load_data(hparams, mode=get_fields)"
   ]
  },
  {
   "cell_type": "markdown",
   "metadata": {},
   "source": [
    "### Define Model"
   ]
  },
  {
   "cell_type": "code",
   "execution_count": 5,
   "metadata": {},
   "outputs": [],
   "source": [
    "class OneStepAttention(tf.keras.Model):\n",
    "    def __init__(self, neurons_unit, in_seq_len, name=''):\n",
    "        super(OneStepAttention, self).__init__()\n",
    "        self.rpt = tf.keras.layers.RepeatVector(in_seq_len)\n",
    "        self.cat = tf.keras.layers.Concatenate(axis=-1)\n",
    "        self.W1 = tf.keras.layers.Dense(neurons_unit, activation = \"tanh\", name=name + '_W1')\n",
    "        self.W2 = tf.keras.layers.Dense(1, activation = \"relu\", name=name + '_W2')\n",
    "        self.softmax = tf.keras.layers.Activation('softmax', name='attention_weights')\n",
    "        \n",
    "    def call(self, hidden_states, prev_state):\n",
    "    \n",
    "        # Repeat previous hidden state and concatenate with hidden states\n",
    "        s_prev = self.rpt(prev_state)\n",
    "        a0 = self.cat([hidden_states, s_prev])\n",
    "\n",
    "        # Propagate and calculate softmax activation\n",
    "        a1 = self.W1(a0)\n",
    "        a2 = self.W2(a1)\n",
    "        a2 = tf.keras.backend.squeeze(a2, -1)\n",
    "        a3 = self.softmax(a2)\n",
    "        a3 = tf.keras.backend.expand_dims(a3)\n",
    "\n",
    "        # Compute context vector\n",
    "        context = tf.keras.layers.Dot(axes = 1)([a3, hidden_states])\n",
    "        \n",
    "        return context"
   ]
  },
  {
   "cell_type": "code",
   "execution_count": 6,
   "metadata": {},
   "outputs": [],
   "source": [
    "def gru(units, name):\n",
    "    # Use CuDNNGRU is GPU is available (provides a 3x speedup than GRU)\n",
    "    if tf.test.is_gpu_available():\n",
    "        return tf.keras.layers.CuDNNGRU(units, \n",
    "                                        return_sequences=True, \n",
    "                                        return_state=True, \n",
    "                                        recurrent_activation='sigmoid',\n",
    "                                        recurrent_initializer='glorot_uniform',\n",
    "                                        name=name)\n",
    "    else:\n",
    "        return tf.keras.layers.GRU(units, \n",
    "                                   return_sequences=True, \n",
    "                                   return_state=True, \n",
    "                                   recurrent_activation='sigmoid', \n",
    "                                   recurrent_initializer='glorot_uniform',\n",
    "                                   name=name)"
   ]
  },
  {
   "cell_type": "code",
   "execution_count": 10,
   "metadata": {},
   "outputs": [],
   "source": [
    "class BidirectionalEncDec(tf.keras.Model):\n",
    "    def __init__(self, output_dim, num_layers, neurons_unit, batch_size, in_seq_len):\n",
    "        super(BidirectionalEncDec, self).__init__()\n",
    "        self.output_dim   = output_dim\n",
    "        self.num_layers   = num_layers\n",
    "        self.neurons_unit = neurons_unit\n",
    "        self.batch_size   = batch_size\n",
    "        \n",
    "        self.encoder = tf.keras.layers.Bidirectional(gru(neurons_unit, 'encoder'))\n",
    "        self.decoder = gru(neurons_unit, 'decoder')\n",
    "        self.dec_out = tf.keras.layers.Dense(output_dim, activation='relu', name='decoder_affine')\n",
    "        self.attention = OneStepAttention(neurons_unit, in_seq_len, 'bi_enc_attn')\n",
    "    \n",
    "    def call(self, inp, mask, trace=False):\n",
    "        \"\"\"\n",
    "        Arguments:\n",
    "            x: Inputs dataset\n",
    "            out_seq_len: Number of steps to predict\n",
    "        Returns:\n",
    "            pred: Model predictions\n",
    "        \"\"\"\n",
    "        if trace: import pdb; pdb.set_trace()\n",
    "        # Step 1: Run bidirectional encoder\n",
    "        enc_output, _, _ = self.encoder(inp)\n",
    "        dec_state = tf.zeros((inp.shape[0], self.neurons_unit))\n",
    "        out = tf.slice(inp, [0, inp.shape[1]-1, inp.shape[2]-self.output_dim], [-1, 1, self.output_dim])\n",
    "\n",
    "        # Step 2: Run decoder for t steps        \n",
    "        for t in range(inp.shape[1]):\n",
    "\n",
    "            # Calculate attention vector, concatenate with raw input\n",
    "            \"\"\"\n",
    "            TODO: Try concatenating enc_output\n",
    "            \"\"\"\n",
    "            mask_t  = tf.slice(mask,  [0, t, 0], [-1, 1, -1])\n",
    "            inp_t   = tf.slice(inp,   [0, t, 0], [-1, 1, -1])\n",
    "            context = self.attention(enc_output, dec_state)\n",
    "            context = tf.keras.layers.Concatenate(axis=-1)([inp_t, out, context])\n",
    "\n",
    "            # Pass to decoder\n",
    "            dec_output, dec_state = self.decoder(context, initial_state = [dec_state])\n",
    "            dec_state = tf.keras.backend.clip(dec_state, -5, 5)\n",
    "            out = self.dec_out(dec_output) * mask_t\n",
    "\n",
    "            if t == 0:\n",
    "                outputs = out\n",
    "            else:\n",
    "                outputs = tf.concat([outputs, out], axis=1)\n",
    "\n",
    "        return outputs"
   ]
  },
  {
   "cell_type": "markdown",
   "metadata": {},
   "source": [
    "## Train Model\n",
    "loss_function: Build out MSE loss function with parameter regularisation\n",
    "\n",
    "train_model: Runs the minibatch training loop"
   ]
  },
  {
   "cell_type": "code",
   "execution_count": 16,
   "metadata": {},
   "outputs": [
    {
     "name": "stdout",
     "output_type": "stream",
     "text": [
      "Epoch 1 Loss 0.2746 Accuracy 0.2732\n",
      "Time taken for 1 epoch 69.5957 sec\n",
      "\n",
      "Epoch 2 Loss 0.0534 Accuracy 0.0519\n",
      "Time taken for 1 epoch 68.3841 sec\n",
      "\n",
      "Epoch 3 Loss 0.0644 Accuracy 0.0628\n",
      "Time taken for 1 epoch 68.4204 sec\n",
      "\n",
      "Epoch 4 Loss 0.0544 Accuracy 0.0528\n",
      "Time taken for 1 epoch 68.3671 sec\n",
      "\n",
      "Epoch 5 Loss 0.0381 Accuracy 0.0365\n",
      "Time taken for 1 epoch 69.1825 sec\n",
      "\n",
      "Epoch 6 Loss 0.0260 Accuracy 0.0244\n",
      "Time taken for 1 epoch 68.9061 sec\n",
      "\n",
      "Epoch 7 Loss 0.0227 Accuracy 0.0212\n",
      "Time taken for 1 epoch 68.8430 sec\n",
      "\n",
      "Epoch 8 Loss 0.0191 Accuracy 0.0176\n",
      "Time taken for 1 epoch 69.2688 sec\n",
      "\n",
      "Epoch 9 Loss 0.0170 Accuracy 0.0155\n",
      "Time taken for 1 epoch 72.0084 sec\n",
      "\n",
      "Epoch 10 Loss 0.0152 Accuracy 0.0138\n",
      "Time taken for 1 epoch 69.3651 sec\n",
      "\n",
      "Loss 0.0152 Accuracy 0.0138 Time 692.3418\n"
     ]
    },
    {
     "data": {
      "image/png": "[encoded data removed]",
      "text/plain": [
       "<Figure size 432x288 with 1 Axes>"
      ]
     },
     "metadata": {},
     "output_type": "display_data"
    },
    {
     "name": "stdout",
     "output_type": "stream",
     "text": [
      "_________________________________________________________________\n",
      "Layer (type)                 Output Shape              Param #   \n",
      "=================================================================\n",
      "bidirectional_3 (Bidirection multiple                  8256      \n",
      "_________________________________________________________________\n",
      "decoder (GRU)                multiple                  10464     \n",
      "_________________________________________________________________\n",
      "decoder_affine (Dense)       multiple                  66        \n",
      "_________________________________________________________________\n",
      "one_step_attention_3 (OneSte multiple                  3137      \n",
      "=================================================================\n",
      "Total params: 21,923\n",
      "Trainable params: 21,923\n",
      "Non-trainable params: 0\n",
      "_________________________________________________________________\n"
     ]
    }
   ],
   "source": [
    "import trainers.tf_eager_trainer as trainer\n",
    "\n",
    "# Run a training batch\n",
    "tf.set_random_seed(231) # Set seed\n",
    "\n",
    "# Initialise model and optimiser\n",
    "model = BidirectionalEncDec(hparams.output_channels, hparams.num_layers, hparams.neurons_unit,\n",
    "                            hparams.batch_size, hparams.in_seq_len)\n",
    "optimizer = tf.train.AdamOptimizer(learning_rate = hparams.learning_rate)\n",
    "\n",
    "# Start training run\n",
    "loss, accuracy, run_time, stats = trainer.train_model(model, optimizer, dataset, hparams,\n",
    "                                                      epochs=10, verbose=True, dev_dataset=dataset_val)\n",
    "\n",
    "# Display results\n",
    "print('Loss {:.4f} Accuracy {:.4f} Time {:.4f}'.format(loss * 100, accuracy * 100, run_time))\n",
    "\n",
    "plt.figure()\n",
    "for name, stat in stats.items():\n",
    "    if name != 'time':\n",
    "        plt.plot(stat, label=name)\n",
    "plt.legend()\n",
    "plt.show()\n",
    "\n",
    "model.summary()"
   ]
  },
  {
   "cell_type": "code",
   "execution_count": null,
   "metadata": {},
   "outputs": [],
   "source": [
    "# show all sequences\n",
    "# Select target sequence to show\n",
    "TARGET_INDEX = 799\n",
    "\n",
    "# Create forecast and rescale data\n",
    "_, (inp, target, mask, x_max) = enumerate(dataset).__next__()\n",
    "forecast = model(inp, mask)\n",
    "forecast *= x_max\n",
    "target   *= x_max\n",
    "inp = np.reshape(inp, [hparams.batch_size, hparams.in_seq_len, hparams.input_dim, hparams.input_channels])\n",
    "inp *= np.reshape(x_max, [hparams.batch_size,1,1,-1])\n",
    "\n",
    "# Plot target sequence\n",
    "plt.figure(figsize=(16,12))\n",
    "plt.plot(np.squeeze(forecast[TARGET_INDEX,:,0]), label='forecast')\n",
    "plt.plot(np.squeeze(target[TARGET_INDEX,:,0]), label='target')\n",
    "plt.plot(np.mean(inp, axis=2)[TARGET_INDEX,:,0], 'bo', label='5 period average')\n",
    "for i in range(hparams.input_dim):\n",
    "    plt.plot(np.array(inp)[TARGET_INDEX,:,i,0], '--', label='%i periods prior' % (5-i))\n",
    "plt.legend()\n",
    "plt.yscale('log')\n",
    "plt.show()\n",
    "\n",
    "\"\"\"plt.figure(figsize=(16,16))\n",
    "for i in range(0,100):\n",
    "    ax = plt.subplot(10,10,i+1)\n",
    "    ax.plot(np.squeeze(pred[i]), label='forecast')\n",
    "    ax.plot(np.squeeze(target[i]), label='target')\n",
    "plt.show()\"\"\""
   ]
  }
 ],
 "metadata": {
  "kernelspec": {
   "display_name": "Python 3",
   "language": "python",
   "name": "python3"
  },
  "language_info": {
   "codemirror_mode": {
    "name": "ipython",
    "version": 3
   },
   "file_extension": ".py",
   "mimetype": "text/x-python",
   "name": "python",
   "nbconvert_exporter": "python",
   "pygments_lexer": "ipython3",
   "version": "3.6.5"
  }
 },
 "nbformat": 4,
 "nbformat_minor": 2
}
