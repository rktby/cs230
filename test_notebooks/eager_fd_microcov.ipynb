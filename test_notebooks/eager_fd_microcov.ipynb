{
 "cells": [
  {
   "cell_type": "code",
   "execution_count": 2,
   "metadata": {},
   "outputs": [
    {
     "name": "stdout",
     "output_type": "stream",
     "text": [
      "1.12.0\n"
     ]
    }
   ],
   "source": [
    "import numpy as np\n",
    "import pandas as pd\n",
    "import tensorflow as tf\n",
    "\n",
    "tf.enable_eager_execution()\n",
    "tf.set_random_seed(230)\n",
    "print(tf.__version__)\n",
    "\n",
    "from matplotlib import pyplot as plt\n",
    "\n",
    "import sys\n",
    "sys.path.append('..')"
   ]
  },
  {
   "cell_type": "code",
   "execution_count": 3,
   "metadata": {},
   "outputs": [
    {
     "name": "stdout",
     "output_type": "stream",
     "text": [
      "[('batch_size', 800), ('datagen', 'prodn'), ('in_seq_len', 168), ('input_channels', 1), ('input_dim', 5), ('lambd', 1e-06), ('learning_rate', 0.001), ('logs_path', '/tmp/tensorflow_logs'), ('lr_decay', 0.99), ('neurons_unit', 32), ('norm_epsilon', 1e-12), ('num_layers', 1), ('out_seq_len', 24), ('output_channels', 1), ('output_dim', 1), ('test_split', 0.1), ('train_split', 0.8), ('val_split', 0.1)]\n"
     ]
    }
   ],
   "source": [
    "from configs.seq_fd_gru import hparams\n",
    "hparams = hparams()\n",
    "print(hparams)"
   ]
  },
  {
   "cell_type": "code",
   "execution_count": 166,
   "metadata": {},
   "outputs": [],
   "source": [
    "hparams=tf.contrib.training.HParams(\n",
    "        batch_size=800,\n",
    "        in_seq_len=32 * 24,\n",
    "        input_dim=5,\n",
    "        input_channels=1,\n",
    "        out_seq_len=24,\n",
    "        output_dim=1,\n",
    "        output_channels=1,\n",
    "        num_layers=1,\n",
    "        neurons_unit=32,\n",
    "        learning_rate = 10 ** -2.5,\n",
    "        lr_decay = 0.99,\n",
    "        lambd = 1e-6,\n",
    "        train_split = 0.8,\n",
    "        val_split = 0.1,\n",
    "        test_split = 0.1,\n",
    "        norm_epsilon = 1e-12,\n",
    "        datagen = 'prodn',\n",
    "        logs_path = '/tmp/tensorflow_logs')"
   ]
  },
  {
   "cell_type": "code",
   "execution_count": 164,
   "metadata": {},
   "outputs": [],
   "source": [
    "from data_loader.biogas import *\n",
    "get_fields = 'AT305'\n",
    "dataset, dataset_val, dataset_test = load_data(hparams, mode=get_fields, normalise='local_max')\n",
    "inp, target, mask, x_max = next(iter(dataset))"
   ]
  },
  {
   "cell_type": "code",
   "execution_count": 6,
   "metadata": {},
   "outputs": [
    {
     "data": {
      "text/plain": [
       "<tensorflow.python.keras.layers.convolutional.Conv1D at 0x7fe7258bf710>"
      ]
     },
     "execution_count": 6,
     "metadata": {},
     "output_type": "execute_result"
    }
   ],
   "source": [
    "tf.keras.layers.Conv1D(1, 2, padding='valid', activation='linear', use_bias=False,\n",
    "                                         kernel_initializer = tf.constant_initializer([-1,1]))"
   ]
  },
  {
   "cell_type": "code",
   "execution_count": 116,
   "metadata": {},
   "outputs": [],
   "source": [
    "class pAttention(tf.keras.Model):\n",
    "    def __init__(self):\n",
    "        super(pAttention, self).__init__()\n",
    "        self.W1 = tf.Variable(2., name='W_separation')\n",
    "        self.W2 = tf.Variable(1., name='W_scale')\n",
    "        self.w  = None\n",
    "\n",
    "    def cov(self, x):\n",
    "\n",
    "        n_dim  = tf.cast(tf.shape(x)[1], tf.float32) - 1\n",
    "        mu_x   = x - tf.reduce_mean(x, axis=1, keep_dims=True)\n",
    "        cov_xx = tf.matmul(mu_x, mu_x, transpose_a=True) / n_dim\n",
    "        \n",
    "        return cov_xx\n",
    "    \n",
    "    def var(self, x):\n",
    "        xx = tf.expand_dims(x, axis=-1)\n",
    "        xx = xx - tf.transpose(xx, [0,1,3,2])\n",
    "        mu_xx, var_xx = tf.nn.moments(xx, [1])\n",
    "        \n",
    "        return var_xx\n",
    "        \n",
    "    def call(self, x, hidden, mode='var'):\n",
    "        if mode == 'var':\n",
    "            context = self.var(x)\n",
    "        else:\n",
    "            context = self.cov(x)\n",
    "            \n",
    "        context     = tf.reduce_sum(context, axis=1)\n",
    "        context_max = tf.reduce_max(context, axis=1, keep_dims=True)\n",
    "        \n",
    "        if mode == 'var':\n",
    "            context = (context_max - context) / context_max\n",
    "        else:\n",
    "            context = context / context_max\n",
    "\n",
    "        score   = tf.exp(self.W1) * context\n",
    "        weights = tf.nn.softmax(score, axis=1)\n",
    "        weights = tf.expand_dims(weights, axis=1)\n",
    "        self.w  = weights\n",
    "        \n",
    "        outputs = self.W2 * tf.reduce_mean(weights * tf.squeeze(hidden), axis=-1, keepdims=True) \n",
    "        \n",
    "        return outputs"
   ]
  },
  {
   "cell_type": "code",
   "execution_count": 99,
   "metadata": {},
   "outputs": [
    {
     "data": {
      "text/plain": [
       "(array([[ 0.01280322,  0.01010991,  0.01752666, -0.0061983 ,  0.00085185],\n",
       "        [ 0.01010991,  0.01629682,  0.01105879, -0.01112399, -0.00810339],\n",
       "        [ 0.01752666,  0.01105879,  0.07450998,  0.00022164,  0.00699959],\n",
       "        [-0.0061983 , -0.01112399,  0.00022164,  0.01235891,  0.0113797 ],\n",
       "        [ 0.00085185, -0.00810339,  0.00699959,  0.0113797 ,  0.0210997 ]],\n",
       "       dtype=float32),\n",
       " array([0.03509334, 0.01823813, 0.11031665, 0.00663796, 0.03222744],\n",
       "       dtype=float32))"
      ]
     },
     "execution_count": 99,
     "metadata": {},
     "output_type": "execute_result"
    }
   ],
   "source": [
    "i = np.array(inp[608,:,:,0])\n",
    "mu_i  = i - np.mean(i, keepdims = True)\n",
    "cov_i = mu_i.T.dot(mu_i)\n",
    "cov_i, cov_i.sum(axis=1)"
   ]
  },
  {
   "cell_type": "code",
   "execution_count": 100,
   "metadata": {},
   "outputs": [
    {
     "data": {
      "text/plain": [
       "(array([[0.0000000e+00, 2.5867482e-04, 2.1254600e-03, 3.5519432e-04,\n",
       "         2.6991201e-04],\n",
       "        [2.5867482e-04, 0.0000000e+00, 2.5464511e-03, 6.5904540e-05,\n",
       "         3.5955841e-04],\n",
       "        [2.1254600e-03, 2.5464511e-03, 0.0000000e+00, 2.8410759e-03,\n",
       "         2.7489837e-03],\n",
       "        [3.5519432e-04, 6.5904540e-05, 2.8410759e-03, 0.0000000e+00,\n",
       "         4.4162126e-04],\n",
       "        [2.6991201e-04, 3.5955841e-04, 2.7489837e-03, 4.4162126e-04,\n",
       "         0.0000000e+00]], dtype=float32),\n",
       " array([0.00300924, 0.00323059, 0.01026197, 0.0037038 , 0.00382008],\n",
       "       dtype=float32))"
      ]
     },
     "execution_count": 100,
     "metadata": {},
     "output_type": "execute_result"
    }
   ],
   "source": [
    "i = inp[168,:,:,0]\n",
    "i_d = i[:,np.newaxis,:] - i[:,:,np.newaxis]\n",
    "i_v = np.var(i_d, axis=0)\n",
    "i_v, i_v.sum(axis=1)"
   ]
  },
  {
   "cell_type": "code",
   "execution_count": 76,
   "metadata": {},
   "outputs": [
    {
     "data": {
      "text/plain": [
       "TensorShape([Dimension(800), Dimension(5), Dimension(5)])"
      ]
     },
     "execution_count": 76,
     "metadata": {},
     "output_type": "execute_result"
    }
   ],
   "source": [
    "i_d = inp - tf.transpose(inp, [0,1,3,2])\n",
    "i_m, i_v = tf.nn.moments(i_d, [1])\n",
    "i_v.shape"
   ]
  },
  {
   "cell_type": "code",
   "execution_count": 77,
   "metadata": {},
   "outputs": [
    {
     "data": {
      "text/plain": [
       "<tf.Tensor: id=340428, shape=(5, 5), dtype=float32, numpy=\n",
       "array([[0.0000000e+00, 1.7083426e-03, 3.6946798e-04, 2.5687201e-04,\n",
       "        3.6531920e-04],\n",
       "       [1.7083426e-03, 0.0000000e+00, 1.1802994e-03, 1.3205219e-03,\n",
       "        2.4294674e-03],\n",
       "       [3.6946798e-04, 1.1802994e-03, 0.0000000e+00, 7.6796779e-05,\n",
       "        5.0041050e-04],\n",
       "       [2.5687201e-04, 1.3205219e-03, 7.6796779e-05, 0.0000000e+00,\n",
       "        2.8558835e-04],\n",
       "       [3.6531920e-04, 2.4294674e-03, 5.0041050e-04, 2.8558835e-04,\n",
       "        0.0000000e+00]], dtype=float32)>"
      ]
     },
     "execution_count": 77,
     "metadata": {},
     "output_type": "execute_result"
    }
   ],
   "source": [
    "i_v[0]"
   ]
  },
  {
   "cell_type": "code",
   "execution_count": 36,
   "metadata": {},
   "outputs": [
    {
     "data": {
      "text/plain": [
       "[<matplotlib.lines.Line2D at 0x7fe678162048>,\n",
       " <matplotlib.lines.Line2D at 0x7fe6787f4a58>,\n",
       " <matplotlib.lines.Line2D at 0x7fe67888c518>,\n",
       " <matplotlib.lines.Line2D at 0x7fe6788ccf60>,\n",
       " <matplotlib.lines.Line2D at 0x7fe678821940>]"
      ]
     },
     "execution_count": 36,
     "metadata": {},
     "output_type": "execute_result"
    },
    {
     "data": {
      "image/png": "[encoded data removed]",
      "text/plain": [
       "<Figure size 432x288 with 1 Axes>"
      ]
     },
     "metadata": {
      "needs_background": "light"
     },
     "output_type": "display_data"
    }
   ],
   "source": [
    "plt.plot(i)"
   ]
  },
  {
   "cell_type": "code",
   "execution_count": 167,
   "metadata": {},
   "outputs": [],
   "source": [
    "class MicroConvRNN(tf.keras.Model):\n",
    "    def __init__(self, input_dim, output_dim, in_seq_len, out_seq_len, neurons_unit, batch_size, name=None):\n",
    "        super(MicroConvRNN, self).__init__()\n",
    "\n",
    "        self.input_dim    = input_dim\n",
    "        self.output_dim   = output_dim\n",
    "        self.in_seq_len   = in_seq_len\n",
    "        self.out_seq_len  = out_seq_len\n",
    "        self.neurons_unit = neurons_unit\n",
    "        self.batch_size   = batch_size\n",
    "        \n",
    "        self.conv1_2x1  = tf.keras.layers.Conv1D(1, 2, padding='valid', activation='linear', use_bias=False,\n",
    "                                                 kernel_initializer = tf.constant_initializer([-1,1]),\n",
    "                                                 name='conv1_first_diff_2')\n",
    "        self.attn = pAttention()\n",
    "        \n",
    "    def reshape_deep(self, x):\n",
    "        x = tf.reshape(x, [self.batch_size, self.input_dim, self.out_seq_len, -1])\n",
    "        return tf.transpose(x, [0,2,1,3])\n",
    "        \n",
    "    def reshape_wide(self, x):\n",
    "        x = tf.transpose(x, [0,2,1,3])\n",
    "        return tf.reshape(x, [self.batch_size, self.input_dim * self.out_seq_len, -1])\n",
    "    \n",
    "    def encode(self, x):\n",
    "        pos = self.out_seq_len * self.input_dim\n",
    "        \n",
    "        conv1 = self.conv1_2x1(x)\n",
    "\n",
    "        return self.reshape_deep(conv1[:,-pos:])\n",
    "        \n",
    "    def call(self, inp, mask):\n",
    "        \n",
    "        enc_out = self.encode(inp)\n",
    "        \n",
    "        pos = self.out_seq_len * self.input_dim\n",
    "        context = self.reshape_deep(inp[:,-pos:])\n",
    "        context = self.attn(tf.squeeze(context), enc_out)\n",
    "        context = tf.cumsum(context, axis=1)\n",
    "        \n",
    "        x = inp[:,-1:]\n",
    "\n",
    "        return (x + context) * mask"
   ]
  },
  {
   "cell_type": "code",
   "execution_count": null,
   "metadata": {},
   "outputs": [],
   "source": [
    "n = 24\n",
    "pos = hparams.out_seq_len * hparams.input_dim\n",
    "print(model.conv1_2x1.variables)\n",
    "\n",
    "plt.plot(np.array(fcast[n]))\n",
    "plt.plot(np.array(model.reshape_deep(inp[:,-pos:]))[n,:,:,0], '--')\n",
    "plt.show()\n",
    "\n",
    "plt.figure(figsize=(12,4))\n",
    "ax = plt.subplot(1,2,1)\n",
    "ax.plot(np.array(conv1[n]).sum(axis=(1)), label='2x1 conv sum')\n",
    "ax.plot(np.array(conv1[n]).mean(axis=(1)), label='2x1 conv mean')\n",
    "ax.plot(np.cumsum(conv1[n], axis=0).mean(axis=(1)), label='2x1 conv cumsum')\n",
    "plt.legend()\n",
    "ax = plt.subplot(1,2,2)\n",
    "ax.plot(np.array(cox[n]), '--', label='context')\n",
    "ax.plot(np.array(cox[n]).mean(axis=1))\n",
    "plt.legend()\n",
    "plt.show()\n",
    "\n",
    "plt.plot(np.array(inp[n,-120:]))\n",
    "plt.show()"
   ]
  },
  {
   "cell_type": "markdown",
   "metadata": {},
   "source": [
    "## Train Model\n",
    "loss_function: Build out MSE loss function with parameter regularisation\n",
    "\n",
    "train_model: Runs the minibatch training loop"
   ]
  },
  {
   "cell_type": "code",
   "execution_count": 168,
   "metadata": {},
   "outputs": [
    {
     "name": "stdout",
     "output_type": "stream",
     "text": [
      "Loss 0.0165 Accuracy 0.0152 Time 56.0978\n"
     ]
    },
    {
     "data": {
      "image/png": "[encoded data removed]",
      "text/plain": [
       "<Figure size 432x288 with 1 Axes>"
      ]
     },
     "metadata": {
      "needs_background": "light"
     },
     "output_type": "display_data"
    },
    {
     "name": "stdout",
     "output_type": "stream",
     "text": [
      "_________________________________________________________________\n",
      "Layer (type)                 Output Shape              Param #   \n",
      "=================================================================\n",
      "conv1_first_diff_2 (Conv1D)  multiple                  2         \n",
      "_________________________________________________________________\n",
      "p_attention_13 (pAttention)  multiple                  2         \n",
      "=================================================================\n",
      "Total params: 4\n",
      "Trainable params: 4\n",
      "Non-trainable params: 0\n",
      "_________________________________________________________________\n"
     ]
    }
   ],
   "source": [
    "import trainers.tf_eager_trainer as trainer\n",
    "\n",
    "# Run a training batch\n",
    "tf.set_random_seed(231) # Set seed\n",
    "\n",
    "# Initialise model and optimiser\n",
    "model = MicroConvRNN(hparams.input_dim, hparams.output_dim, hparams.in_seq_len, hparams.out_seq_len,\n",
    "                hparams.neurons_unit, hparams.batch_size)\n",
    "optimizer = tf.train.AdamOptimizer(learning_rate = hparams.learning_rate)\n",
    "\n",
    "# Start training run\n",
    "loss, accuracy, run_time, stats = trainer.train_model(model, optimizer, dataset, hparams,\n",
    "                                                      epochs=200, verbose=False, dev_dataset=dataset_val)\n",
    "\n",
    "# Display results\n",
    "print('Loss {:.4f} Accuracy {:.4f} Time {:.4f}'.format(loss * 10000, accuracy * 10000, run_time))\n",
    "\n",
    "plt.figure()\n",
    "for name, stat in stats.items():\n",
    "    if name != 'time':\n",
    "        plt.plot(stat, label=name)\n",
    "plt.legend()\n",
    "plt.yscale('log')\n",
    "plt.show()\n",
    "\n",
    "#trainer.save_model(model, optimizer, dataset_val, hparams, 'fd_mini' + get_fields.replace(' ', '_'), stats=stats)\n",
    "model.summary()"
   ]
  },
  {
   "cell_type": "code",
   "execution_count": 169,
   "metadata": {},
   "outputs": [
    {
     "data": {
      "text/plain": [
       "([<tf.Variable 'micro_conv_rnn_13/conv1_first_diff_2/kernel:0' shape=(2, 1, 1) dtype=float32, numpy=\n",
       "  array([[[-0.9999893 ]],\n",
       "  \n",
       "         [[ 0.99999356]]], dtype=float32)>,\n",
       "  <tf.Variable 'W_separation:0' shape=() dtype=float32, numpy=0.2562777>,\n",
       "  <tf.Variable 'W_scale:0' shape=() dtype=float32, numpy=0.97616607>],\n",
       " 0.0004236809327199552)"
      ]
     },
     "execution_count": 169,
     "metadata": {},
     "output_type": "execute_result"
    }
   ],
   "source": [
    "model.variables, optimizer._lr"
   ]
  },
  {
   "cell_type": "code",
   "execution_count": 172,
   "metadata": {},
   "outputs": [
    {
     "data": {
      "text/plain": [
       "[<matplotlib.lines.Line2D at 0x7fe67842d898>]"
      ]
     },
     "execution_count": 172,
     "metadata": {},
     "output_type": "execute_result"
    },
    {
     "data": {
      "image/png": "[encoded data removed]",
      "text/plain": [
       "<Figure size 432x288 with 1 Axes>"
      ]
     },
     "metadata": {
      "needs_background": "light"
     },
     "output_type": "display_data"
    }
   ],
   "source": [
    "plt.plot(np.sum(model.attn.w[TARGET_INDEX] * inp[TARGET_INDEX,:,:,0], axis=1))\n",
    "plt.plot(np.mean(inp[TARGET_INDEX,:,:,0], axis=1))"
   ]
  },
  {
   "cell_type": "code",
   "execution_count": 174,
   "metadata": {},
   "outputs": [
    {
     "data": {
      "text/plain": [
       "TensorShape([Dimension(800), Dimension(768), Dimension(1)])"
      ]
     },
     "execution_count": 174,
     "metadata": {},
     "output_type": "execute_result"
    }
   ],
   "source": [
    "inp, target, mask, x_max = next(iter(dataset))\n",
    "inp.shape"
   ]
  },
  {
   "cell_type": "code",
   "execution_count": 175,
   "metadata": {},
   "outputs": [
    {
     "ename": "InvalidArgumentError",
     "evalue": "Input to reshape is a tensor with 614400 values, but the requested shape requires a multiple of 96000 [Op:Reshape]",
     "output_type": "error",
     "traceback": [
      "\u001b[0;31m---------------------------------------------------------------------------\u001b[0m",
      "\u001b[0;31mInvalidArgumentError\u001b[0m                      Traceback (most recent call last)",
      "\u001b[0;32m<ipython-input-175-235c31f2db25>\u001b[0m in \u001b[0;36m<module>\u001b[0;34m\u001b[0m\n\u001b[1;32m     10\u001b[0m \u001b[0mtarget\u001b[0m   \u001b[0;34m*=\u001b[0m \u001b[0mx_max\u001b[0m\u001b[0;34m\u001b[0m\u001b[0m\n\u001b[1;32m     11\u001b[0m \u001b[0minp\u001b[0m      \u001b[0;34m*=\u001b[0m \u001b[0mx_max\u001b[0m\u001b[0;34m\u001b[0m\u001b[0m\n\u001b[0;32m---> 12\u001b[0;31m \u001b[0minp\u001b[0m \u001b[0;34m=\u001b[0m \u001b[0mtf\u001b[0m\u001b[0;34m.\u001b[0m\u001b[0mreshape\u001b[0m\u001b[0;34m(\u001b[0m\u001b[0minp\u001b[0m\u001b[0;34m[\u001b[0m\u001b[0;34m:\u001b[0m\u001b[0;34m,\u001b[0m\u001b[0;34m-\u001b[0m\u001b[0;36m32\u001b[0m\u001b[0;34m*\u001b[0m\u001b[0;36m24\u001b[0m\u001b[0;34m:\u001b[0m\u001b[0;34m]\u001b[0m\u001b[0;34m,\u001b[0m \u001b[0;34m[\u001b[0m\u001b[0mhparams\u001b[0m\u001b[0;34m.\u001b[0m\u001b[0mbatch_size\u001b[0m\u001b[0;34m,\u001b[0m \u001b[0mhparams\u001b[0m\u001b[0;34m.\u001b[0m\u001b[0minput_dim\u001b[0m\u001b[0;34m,\u001b[0m \u001b[0mhparams\u001b[0m\u001b[0;34m.\u001b[0m\u001b[0mout_seq_len\u001b[0m\u001b[0;34m,\u001b[0m \u001b[0;34m-\u001b[0m\u001b[0;36m1\u001b[0m\u001b[0;34m]\u001b[0m\u001b[0;34m)\u001b[0m\u001b[0;34m\u001b[0m\u001b[0m\n\u001b[0m\u001b[1;32m     13\u001b[0m \u001b[0minp\u001b[0m \u001b[0;34m=\u001b[0m \u001b[0mtf\u001b[0m\u001b[0;34m.\u001b[0m\u001b[0mtranspose\u001b[0m\u001b[0;34m(\u001b[0m\u001b[0minp\u001b[0m\u001b[0;34m,\u001b[0m \u001b[0;34m[\u001b[0m\u001b[0;36m0\u001b[0m\u001b[0;34m,\u001b[0m\u001b[0;36m2\u001b[0m\u001b[0;34m,\u001b[0m\u001b[0;36m1\u001b[0m\u001b[0;34m,\u001b[0m\u001b[0;36m3\u001b[0m\u001b[0;34m]\u001b[0m\u001b[0;34m)\u001b[0m\u001b[0;34m\u001b[0m\u001b[0m\n\u001b[1;32m     14\u001b[0m \u001b[0;34m\u001b[0m\u001b[0m\n",
      "\u001b[0;32m~/venv/lib/python3.5/site-packages/tensorflow/python/ops/gen_array_ops.py\u001b[0m in \u001b[0;36mreshape\u001b[0;34m(tensor, shape, name)\u001b[0m\n\u001b[1;32m   6497\u001b[0m     \u001b[0;32mexcept\u001b[0m \u001b[0m_core\u001b[0m\u001b[0;34m.\u001b[0m\u001b[0m_FallbackException\u001b[0m\u001b[0;34m:\u001b[0m\u001b[0;34m\u001b[0m\u001b[0m\n\u001b[1;32m   6498\u001b[0m       return reshape_eager_fallback(\n\u001b[0;32m-> 6499\u001b[0;31m           tensor, shape, name=name, ctx=_ctx)\n\u001b[0m\u001b[1;32m   6500\u001b[0m     \u001b[0;32mexcept\u001b[0m \u001b[0m_core\u001b[0m\u001b[0;34m.\u001b[0m\u001b[0m_NotOkStatusException\u001b[0m \u001b[0;32mas\u001b[0m \u001b[0me\u001b[0m\u001b[0;34m:\u001b[0m\u001b[0;34m\u001b[0m\u001b[0m\n\u001b[1;32m   6501\u001b[0m       \u001b[0;32mif\u001b[0m \u001b[0mname\u001b[0m \u001b[0;32mis\u001b[0m \u001b[0;32mnot\u001b[0m \u001b[0;32mNone\u001b[0m\u001b[0;34m:\u001b[0m\u001b[0;34m\u001b[0m\u001b[0m\n",
      "\u001b[0;32m~/venv/lib/python3.5/site-packages/tensorflow/python/ops/gen_array_ops.py\u001b[0m in \u001b[0;36mreshape_eager_fallback\u001b[0;34m(tensor, shape, name, ctx)\u001b[0m\n\u001b[1;32m   6516\u001b[0m   \u001b[0m_attrs\u001b[0m \u001b[0;34m=\u001b[0m \u001b[0;34m(\u001b[0m\u001b[0;34m\"T\"\u001b[0m\u001b[0;34m,\u001b[0m \u001b[0m_attr_T\u001b[0m\u001b[0;34m,\u001b[0m \u001b[0;34m\"Tshape\"\u001b[0m\u001b[0;34m,\u001b[0m \u001b[0m_attr_Tshape\u001b[0m\u001b[0;34m)\u001b[0m\u001b[0;34m\u001b[0m\u001b[0m\n\u001b[1;32m   6517\u001b[0m   _result = _execute.execute(b\"Reshape\", 1, inputs=_inputs_flat, attrs=_attrs,\n\u001b[0;32m-> 6518\u001b[0;31m                              ctx=_ctx, name=name)\n\u001b[0m\u001b[1;32m   6519\u001b[0m   _execute.record_gradient(\n\u001b[1;32m   6520\u001b[0m       \"Reshape\", _inputs_flat, _attrs, _result, name)\n",
      "\u001b[0;32m~/venv/lib/python3.5/site-packages/tensorflow/python/eager/execute.py\u001b[0m in \u001b[0;36mquick_execute\u001b[0;34m(op_name, num_outputs, inputs, attrs, ctx, name)\u001b[0m\n\u001b[1;32m     64\u001b[0m     \u001b[0;32melse\u001b[0m\u001b[0;34m:\u001b[0m\u001b[0;34m\u001b[0m\u001b[0m\n\u001b[1;32m     65\u001b[0m       \u001b[0mmessage\u001b[0m \u001b[0;34m=\u001b[0m \u001b[0me\u001b[0m\u001b[0;34m.\u001b[0m\u001b[0mmessage\u001b[0m\u001b[0;34m\u001b[0m\u001b[0m\n\u001b[0;32m---> 66\u001b[0;31m     \u001b[0msix\u001b[0m\u001b[0;34m.\u001b[0m\u001b[0mraise_from\u001b[0m\u001b[0;34m(\u001b[0m\u001b[0mcore\u001b[0m\u001b[0;34m.\u001b[0m\u001b[0m_status_to_exception\u001b[0m\u001b[0;34m(\u001b[0m\u001b[0me\u001b[0m\u001b[0;34m.\u001b[0m\u001b[0mcode\u001b[0m\u001b[0;34m,\u001b[0m \u001b[0mmessage\u001b[0m\u001b[0;34m)\u001b[0m\u001b[0;34m,\u001b[0m \u001b[0;32mNone\u001b[0m\u001b[0;34m)\u001b[0m\u001b[0;34m\u001b[0m\u001b[0m\n\u001b[0m\u001b[1;32m     67\u001b[0m   \u001b[0;31m# pylint: enable=protected-access\u001b[0m\u001b[0;34m\u001b[0m\u001b[0;34m\u001b[0m\u001b[0m\n\u001b[1;32m     68\u001b[0m   \u001b[0;32mreturn\u001b[0m \u001b[0mtensors\u001b[0m\u001b[0;34m\u001b[0m\u001b[0m\n",
      "\u001b[0;32m~/venv/lib/python3.5/site-packages/six.py\u001b[0m in \u001b[0;36mraise_from\u001b[0;34m(value, from_value)\u001b[0m\n",
      "\u001b[0;31mInvalidArgumentError\u001b[0m: Input to reshape is a tensor with 614400 values, but the requested shape requires a multiple of 96000 [Op:Reshape]"
     ]
    }
   ],
   "source": [
    "# show all sequences\n",
    "# Select target sequence to show\n",
    "TARGET_INDEX = 168\n",
    "\n",
    "# Create forecast and rescale data\n",
    "inp, target, mask, x_max = next(iter(dataset))\n",
    "x_max = tf.expand_dims(x_max,-1)\n",
    "forecast = model(inp, mask)\n",
    "forecast *= x_max\n",
    "target   *= x_max\n",
    "inp      *= x_max\n",
    "inp = tf.reshape(inp[:,-120:], [hparams.batch_size, hparams.input_dim, hparams.out_seq_len, -1])\n",
    "inp = tf.transpose(inp, [0,2,1,3])\n",
    "\n",
    "# Plot target sequence\n",
    "print('Attention Weights: ', ['{:.1f}'.format(i * 100) for i in model.attn.w[TARGET_INDEX,0]])\n",
    "plt.figure(figsize=(16,12))\n",
    "plt.plot(np.squeeze(forecast[TARGET_INDEX,:,0]), label='forecast')\n",
    "plt.plot(np.squeeze(target[TARGET_INDEX,:,0]), label='target')\n",
    "plt.plot(np.mean(inp, axis=2)[TARGET_INDEX,:,0], 'bo', label='5 period average')\n",
    "for i in range(hparams.input_dim):\n",
    "    plt.plot(np.array(inp)[TARGET_INDEX,:,i,0], '--', label='%i periods prior' % (5-i))\n",
    "plt.legend()\n",
    "plt.show()\n",
    "\n",
    "plt.figure(figsize=(16,16))\n",
    "for i in range(0,800,8):\n",
    "    ax = plt.subplot(10,10,i/8+1)\n",
    "    ax.plot(np.squeeze(forecast[i]), label='forecast')\n",
    "    ax.plot(np.squeeze(target[i]), label='target')\n",
    "plt.show()"
   ]
  },
  {
   "cell_type": "markdown",
   "metadata": {},
   "source": [
    "## Test Hyperparameters"
   ]
  },
  {
   "cell_type": "code",
   "execution_count": 22,
   "metadata": {},
   "outputs": [
    {
     "name": "stdout",
     "output_type": "stream",
     "text": [
      "Learning Rate -4.0000 Loss 0.0309 Accuracy 0.0280 Time 11.2\n",
      "Learning Rate -3.5000 Loss 0.0307 Accuracy 0.0280 Time 11.1\n",
      "Learning Rate -3.0000 Loss 0.0301 Accuracy 0.0278 Time 11.1\n",
      "Learning Rate -2.5000 Loss 0.0288 Accuracy 0.0273 Time 11.0\n",
      "Learning Rate -2.0000 Loss 0.0278 Accuracy 0.0268 Time 11.1\n",
      "Learning Rate -1.5000 Loss 0.0279 Accuracy 0.0269 Time 11.2\n",
      "Learning Rate -1.0000 Loss 0.0282 Accuracy 0.0278 Time 11.2\n",
      "Learning Rate -0.5000 Loss 0.0282 Accuracy 0.0280 Time 11.0\n"
     ]
    }
   ],
   "source": [
    "np.random.seed(231)\n",
    "models, stats = [], []\n",
    "\n",
    "lr    = np.log10(hparams.learning_rate)\n",
    "nodes = hparams.neurons_unit\n",
    "\n",
    "inp, target, mask, x_max = next(iter(dataset))\n",
    "\n",
    "#for lr in np.random.uniform(-8, -1, 10):\n",
    "#for nodes in np.floor(2 ** np.arange(3,9)):\n",
    "for lr in range(-8, 0, 1):\n",
    "    lr /= 2\n",
    "\n",
    "    # Run a training batch\n",
    "    tf.set_random_seed(231) # Set seed\n",
    "\n",
    "    # Initialise model and optimiser\n",
    "    model_ = MicroConvRNN(hparams.input_dim, hparams.output_dim, hparams.in_seq_len, hparams.out_seq_len,\n",
    "                       hparams.neurons_unit, hparams.batch_size)\n",
    "    optimizer_ = tf.train.AdamOptimizer(learning_rate = 10 ** lr)\n",
    "\n",
    "    # Start training run\n",
    "    loss, accuracy, run_time, stat = \\\n",
    "        trainer.train_model(model_, optimizer_, dataset, hparams, epochs = 50, verbose=False)\n",
    "    print('Learning Rate {:.4f} Loss {:.4f} Accuracy {:.4f} Time {:.1f}'.format(lr, loss*10000, accuracy * 10000, run_time))\n",
    "    \n",
    "    models.append(model_)\n",
    "    stats.append(stat)"
   ]
  },
  {
   "cell_type": "markdown",
   "metadata": {},
   "source": [
    "## Test Model Accuracy"
   ]
  },
  {
   "cell_type": "code",
   "execution_count": 16,
   "metadata": {},
   "outputs": [],
   "source": [
    "model_accuracy = []"
   ]
  },
  {
   "cell_type": "code",
   "execution_count": 24,
   "metadata": {},
   "outputs": [
    {
     "name": "stdout",
     "output_type": "stream",
     "text": [
      "Total Accuracy: 0.0278\n"
     ]
    },
    {
     "data": {
      "image/png": "[encoded data removed]",
      "text/plain": [
       "<Figure size 432x288 with 1 Axes>"
      ]
     },
     "metadata": {
      "needs_background": "light"
     },
     "output_type": "display_data"
    }
   ],
   "source": [
    "START_POINT = 0\n",
    "total_accuracy = []\n",
    "x_variance = x_var(hparams, mode=get_fields, normalise='local_max_min')\n",
    "\n",
    "for i, (inp, target, mask, x_max) in enumerate(dataset_test):\n",
    "    forecast = model(inp, mask)\n",
    "\n",
    "    accuracy = tf.squeeze(forecast - target) * x_max\n",
    "    accuracy = accuracy ** 2 / x_variance\n",
    "    accuracy = np.mean(accuracy, axis=0)\n",
    "    \n",
    "    total_accuracy.append(accuracy)\n",
    "\n",
    "model_accuracy.append((hparams.in_seq_len, np.mean(total_accuracy, axis=0)))\n",
    "    \n",
    "print('Total Accuracy: %.4f' % np.mean(total_accuracy))\n",
    "plt.plot(np.mean(total_accuracy, axis=0))\n",
    "plt.show()"
   ]
  },
  {
   "cell_type": "code",
   "execution_count": 25,
   "metadata": {},
   "outputs": [],
   "source": [
    "preds = np.array(forecast[:,:,0])*np.array(x_max)\n",
    "acts  = np.array(target[:,:,0])*np.array(x_max)\n",
    "errors = np.abs(preds - acts)\n",
    "\n",
    "mses = np.mean(errors**2, axis = 0)\n",
    "maes = np.mean(errors, axis = 0)\n",
    "mapes = np.mean(errors/acts, axis = 0)\n",
    "rses = np.mean(errors**2, axis = 0)/np.var(acts, axis = 0)"
   ]
  },
  {
   "cell_type": "code",
   "execution_count": 27,
   "metadata": {},
   "outputs": [
    {
     "data": {
      "text/plain": [
       "0.0024868366"
      ]
     },
     "execution_count": 27,
     "metadata": {},
     "output_type": "execute_result"
    }
   ],
   "source": [
    "rses"
   ]
  },
  {
   "cell_type": "code",
   "execution_count": null,
   "metadata": {},
   "outputs": [],
   "source": []
  }
 ],
 "metadata": {
  "kernelspec": {
   "display_name": "Python 3",
   "language": "python",
   "name": "python3"
  },
  "language_info": {
   "codemirror_mode": {
    "name": "ipython",
    "version": 3
   },
   "file_extension": ".py",
   "mimetype": "text/x-python",
   "name": "python",
   "nbconvert_exporter": "python",
   "pygments_lexer": "ipython3",
   "version": "3.5.2"
  }
 },
 "nbformat": 4,
 "nbformat_minor": 2
}
